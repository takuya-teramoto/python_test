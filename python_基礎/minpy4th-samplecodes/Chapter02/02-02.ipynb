{
 "cells": [
  {
   "cell_type": "markdown",
   "metadata": {},
   "source": [
    "# Chapter 02-02\n",
    "## 変数を使う"
   ]
  },
  {
   "cell_type": "markdown",
   "metadata": {},
   "source": [
    "### 変数を定義する"
   ]
  },
  {
   "cell_type": "code",
   "execution_count": null,
   "metadata": {
    "collapsed": true
   },
   "outputs": [],
   "source": [
    "champernowne = 0.12345678910"
   ]
  },
  {
   "cell_type": "code",
   "execution_count": null,
   "metadata": {
    "collapsed": true
   },
   "outputs": [],
   "source": [
    "champernowne_19 = 0.1234567891011121314"
   ]
  },
  {
   "cell_type": "markdown",
   "metadata": {},
   "source": [
    "### 変数を使って計算をする"
   ]
  },
  {
   "cell_type": "code",
   "execution_count": null,
   "metadata": {
    "collapsed": false
   },
   "outputs": [],
   "source": [
    "pi = 3.141592           # 円周率\n",
    "diameter = 12756.274    # 赤道面での地球の直径(km)\n",
    "pi*diameter             # 赤道面での地球の円周"
   ]
  },
  {
   "cell_type": "code",
   "execution_count": null,
   "metadata": {
    "collapsed": false
   },
   "outputs": [],
   "source": [
    "cal_per_1kg = 7200           # 脂肪1キロ燃焼に必要なカロリー\n",
    "cal_per_1minjog = 7.76       # ジョギング1分の消費カロリー\n",
    "# ジョギングで1キロ減量するのに何分かかるか\n",
    "min_to_lose1kg = cal_per_1kg/cal_per_1minjog\n",
    "hours_to_lose1kg = min_to_lose1kg/60  # 分を時間に直す\n",
    "print(hours_to_lose1kg)      # 結果を表示"
   ]
  },
  {
   "cell_type": "markdown",
   "metadata": {},
   "source": [
    "### 変数名の付け方"
   ]
  },
  {
   "cell_type": "code",
   "execution_count": null,
   "metadata": {
    "collapsed": false
   },
   "outputs": [],
   "source": [
    "# Python3では，日本語を含む文字列を変数名にできますが\n",
    "# 変数名は中に入っているデータの意味が分かるようにつけるべきです\n",
    "# 以下のコードは見た目は楽しいですが，悪い例です\n",
    "\n",
    "わん = 1\n",
    "にゃー = 2\n",
    "わん+にゃー"
   ]
  },
  {
   "cell_type": "code",
   "execution_count": null,
   "metadata": {
    "collapsed": true
   },
   "outputs": [],
   "source": [
    "# 変数名は，英字の小文字を使ってつけます\n",
    "# 変数の中に入っているデータを表す英単語を使うのが定石です\n",
    "\n",
    "lastname = \"高城\"\n",
    "firstname = \"れに\"\n",
    "\n",
    "# 適切な英単語を考えるのは大変なので，ローマ字を使ってもいいと思います\n",
    "\n",
    "dainikeitai = \"蒲田君\""
   ]
  },
  {
   "cell_type": "code",
   "execution_count": null,
   "metadata": {
    "collapsed": true
   },
   "outputs": [],
   "source": [
    "# 単語の区切りは，アンダースコア(_)を使うか\n",
    "\n",
    "a_lyric = \"結構私うまいことカバーできるかと思ってる\"\n",
    "\n",
    "# 大文字を使います\n",
    "\n",
    "anotherLiric = \"赤裸々に叫べば愛は届く！\""
   ]
  },
  {
   "cell_type": "markdown",
   "metadata": {
    "collapsed": true
   },
   "source": [
    "### Pythonの変数に関する豆知識"
   ]
  },
  {
   "cell_type": "code",
   "execution_count": null,
   "metadata": {
    "collapsed": true
   },
   "outputs": [],
   "source": [
    "# Pythonは「動的型付言語」と呼ばれます\n",
    "# 一度定義した変数に\n",
    "\n",
    "some_var = 100\n",
    "\n",
    "# 別の種類のデータを代入することができます\n",
    "\n",
    "some_var = \"SPAM\"\n",
    "\n",
    "# 一方，静的型付言語と呼ばれる種類のプログラミング言語では\n",
    "# 変数には決まった種類のデータだけ代入できます"
   ]
  },
  {
   "cell_type": "code",
   "execution_count": null,
   "metadata": {
    "collapsed": false
   },
   "outputs": [],
   "source": [
    "# 「予約語」は変数名として使えません(エラーになります)\n",
    "import keyword\n",
    "\n",
    "keyword.kwlist  # キーワードのリストを表示します"
   ]
  },
  {
   "cell_type": "code",
   "execution_count": null,
   "metadata": {
    "collapsed": true
   },
   "outputs": [],
   "source": []
  }
 ],
 "metadata": {
  "kernelspec": {
   "display_name": "Python 3",
   "language": "python",
   "name": "python3"
  },
  "language_info": {
   "codemirror_mode": {
    "name": "ipython",
    "version": 3
   },
   "file_extension": ".py",
   "mimetype": "text/x-python",
   "name": "python",
   "nbconvert_exporter": "python",
   "pygments_lexer": "ipython3",
   "version": "3.5.1"
  }
 },
 "nbformat": 4,
 "nbformat_minor": 0
}
