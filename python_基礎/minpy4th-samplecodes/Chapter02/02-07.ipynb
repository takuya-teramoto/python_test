{
 "cells": [
  {
   "cell_type": "markdown",
   "metadata": {},
   "source": [
    "# Chapter 02-07\n",
    "## 関数を使う"
   ]
  },
  {
   "cell_type": "markdown",
   "metadata": {},
   "source": [
    "### 関数とは"
   ]
  },
  {
   "cell_type": "code",
   "execution_count": null,
   "metadata": {
    "collapsed": false
   },
   "outputs": [],
   "source": [
    "# リストの合計値をforを使って計算\n",
    "the_list = [101, 123, 152, 123]\n",
    "summary = 0                 # 合計を足してゆく変数を初期化\n",
    "for item in the_list:       # リストでループを組む\n",
    "    summary = summary+item  # リストの要素を合計\n",
    "\n",
    "summary                     # 合計を表示"
   ]
  },
  {
   "cell_type": "code",
   "execution_count": null,
   "metadata": {
    "collapsed": false
   },
   "outputs": [],
   "source": [
    "sum(the_list)  # 出来合いの関数sum()を使った方がシンプルだし簡単"
   ]
  },
  {
   "cell_type": "markdown",
   "metadata": {},
   "source": [
    "### 関数を呼び出す"
   ]
  },
  {
   "cell_type": "code",
   "execution_count": null,
   "metadata": {
    "collapsed": false
   },
   "outputs": [],
   "source": [
    "abs(10)    # 絶対値を返す関数を呼び出す"
   ]
  },
  {
   "cell_type": "code",
   "execution_count": null,
   "metadata": {
    "collapsed": false
   },
   "outputs": [],
   "source": [
    "abs(-200)"
   ]
  },
  {
   "cell_type": "markdown",
   "metadata": {},
   "source": [
    "### 関数の引数(ひきすう)"
   ]
  },
  {
   "cell_type": "code",
   "execution_count": null,
   "metadata": {
    "collapsed": false
   },
   "outputs": [],
   "source": [
    "int(\"100\")              # 文字列を10進数の数値に変換"
   ]
  },
  {
   "cell_type": "code",
   "execution_count": null,
   "metadata": {
    "collapsed": false
   },
   "outputs": [],
   "source": [
    "# 引数によって同じ関数でも挙動がかわる\n",
    "int(\"100\", 2)           # 文字列を2進数の数値に見立てて変換"
   ]
  },
  {
   "cell_type": "code",
   "execution_count": null,
   "metadata": {
    "collapsed": false
   },
   "outputs": [],
   "source": [
    "int(\"100\", 16)          # 文字列を16進数の数値に見立てて変換"
   ]
  },
  {
   "cell_type": "markdown",
   "metadata": {},
   "source": [
    "### 関数を定義する"
   ]
  },
  {
   "cell_type": "code",
   "execution_count": null,
   "metadata": {
    "collapsed": true
   },
   "outputs": [],
   "source": [
    "# 運命の戦車を占う関数を定義する\n",
    "def destiny_tank():\n",
    "    tanks = [\"IV号戦車D型\", \"III号戦車J型\", \"チャーチル Mk.VII\",\n",
    "             \"M4シャーマン\", \"P40重戦車\", \"T-34/76\"]  # 戦車のリスト\n",
    "    num = input(\"好きな数字を入力してください:\")        # 数字を入力する\n",
    "    idx = int(num) % len(tanks)     # 入力値をリストのインデックスに変換\n",
    "    print(\"あなたの運命の戦車は\")\n",
    "    print(tanks[idx])                  # 結果を表示する"
   ]
  },
  {
   "cell_type": "code",
   "execution_count": null,
   "metadata": {
    "collapsed": false
   },
   "outputs": [],
   "source": [
    "# 関数を呼び出すと，フォームが表示されます\n",
    "# フォームに数を入力してリターンを押すと\n",
    "# 運命の戦車が表示されます\n",
    "\n",
    "destiny_tank()      "
   ]
  },
  {
   "cell_type": "markdown",
   "metadata": {},
   "source": [
    "### 引数を定義する"
   ]
  },
  {
   "cell_type": "code",
   "execution_count": null,
   "metadata": {
    "collapsed": true
   },
   "outputs": [],
   "source": [
    "# 運命の戦車を占う関数，引数つき版\n",
    "def destiny_tank2(num):\n",
    "    tanks = [\"IV号戦車D型\", \"III号戦車J型\", \"チャーチル Mk.VII\",\n",
    "             \"M4シャーマン\", \"P40重戦車\", \"T-34/76\"]  # 戦車のリスト\n",
    "    idx = num % len(tanks)     # 入力値をリストのインデックスに変換\n",
    "    print(\"あなたの運命の戦車は\")\n",
    "    print(tanks[idx])                  # 結果を表示する"
   ]
  },
  {
   "cell_type": "code",
   "execution_count": null,
   "metadata": {
    "collapsed": false
   },
   "outputs": [],
   "source": [
    "# 引数を与えて関数を呼び出す\n",
    "num_str = input(\"好きな数字を入力してください:\")\n",
    "num = int(num_str)\n",
    "destiny_tank2(num)"
   ]
  },
  {
   "cell_type": "code",
   "execution_count": null,
   "metadata": {
    "collapsed": false
   },
   "outputs": [],
   "source": [
    "# 乱数を使って戦車占いをする\n",
    "from random import randint\n",
    "num = randint(0, 10)\n",
    "destiny_tank2(num)"
   ]
  },
  {
   "cell_type": "markdown",
   "metadata": {},
   "source": [
    "### 関数の戻り値"
   ]
  },
  {
   "cell_type": "code",
   "execution_count": null,
   "metadata": {
    "collapsed": true
   },
   "outputs": [],
   "source": [
    "# 運命の戦車を占い，戻り値で結果を返す版\n",
    "def destiny_tank3(num):\n",
    "    tanks = [\"IV号戦車D型\", \"III号戦車J型\", \"チャーチル Mk.VII\",\n",
    "             \"M4シャーマン\", \"P40重戦車\", \"T-34/76\"]  # 戦車のリスト\n",
    "    idx = num % len(tanks)     # 入力値をリストのインデックスに変換\n",
    "    return tanks[idx]                  # 結果を戻り値として返す"
   ]
  },
  {
   "cell_type": "code",
   "execution_count": null,
   "metadata": {
    "collapsed": false
   },
   "outputs": [],
   "source": [
    "# 戻り値として返された戦車名を表示する\n",
    "from random import randint\n",
    "num = randint(0, 10)\n",
    "tank = destiny_tank3(num)\n",
    "print(\"今日あなたが乗るべき幸運の戦車は\", tank, \"です\")"
   ]
  },
  {
   "cell_type": "markdown",
   "metadata": {},
   "source": [
    "### ローカル変数"
   ]
  },
  {
   "cell_type": "code",
   "execution_count": null,
   "metadata": {
    "collapsed": false
   },
   "outputs": [],
   "source": [
    "def test_func(arg1):\n",
    "    # 数値の引数に100を足して表示する関数\n",
    "    inner_var = 100\n",
    "    print(arg1+inner_var)\n",
    "\n",
    "test_func(10)       # 関数を呼び出す - 110と表示される\n",
    "print(inner_var)    # 関数内で定義した変数を表示(エラーになる)"
   ]
  },
  {
   "cell_type": "markdown",
   "metadata": {},
   "source": [
    "### 繰り返し利用するコードを関数にまとめる"
   ]
  },
  {
   "cell_type": "code",
   "execution_count": null,
   "metadata": {
    "collapsed": false
   },
   "outputs": [],
   "source": [
    "# 身長リストから分散を計算したときのコード(長いし同じような処理が重複している…)\n",
    "\n",
    "monk_fish_team = [158, 157, 163, 157, 145]\n",
    "\n",
    "total = sum(monk_fish_team)    # リストの合計\n",
    "length = len(monk_fish_team)   # リストの要素数(長さ)\n",
    "mean = total/length            # 算術平均を求める\n",
    "variance = 0                   # 分散を計算するための変数\n",
    "\n",
    "for height in monk_fish_team:\n",
    "    variance = variance+(height-mean)**2 # 身長から平均を引いて二乗\n",
    "\n",
    "variance = variance/length     # 足した数値を要素数で割って分散を求める\n",
    "\n",
    "volleyball_team = [143, 167, 170, 165]\n",
    "\n",
    "total2 = sum(volleyball_team)    # リストの合計\n",
    "length2 = len(volleyball_team)   # リストの要素数(長さ)\n",
    "mean2 = total2/length2           # 算術平均を求める\n",
    "variance2 = 0                    # 分散を計算するための変数\n",
    "\n",
    "for height in volleyball_team:\n",
    "    variance2 = variance2+(height-mean)**2 # 身長から平均を引いて二乗\n",
    "\n",
    "variance2 = variance2/length2  # 足した数値を要素数で割って分散を求める\n",
    "print(variance, variance2)     # 結果を表示"
   ]
  },
  {
   "cell_type": "code",
   "execution_count": null,
   "metadata": {
    "collapsed": false
   },
   "outputs": [],
   "source": [
    "# 共通部分をまとめて関数にする\n",
    "def calc_variance(a_list):\n",
    "    # 分散を求める関数\n",
    "    total = sum(a_list)    # リストの合計\n",
    "    length = len(a_list)   # リストの要素数(長さ)\n",
    "    mean = total/length    # 算術平均を求める\n",
    "    variance = 0           # 分散を計算するための変数\n",
    "\n",
    "    for height in a_list:\n",
    "        variance = variance+(height-mean)**2 # 身長から平均を引いて二乗\n",
    "    variance = variance/len(monk_fish_team)  # 足した数値を要素数で割って分散を求める\n",
    "\n",
    "    return variance     # 求めた分散を戻り値として返す"
   ]
  },
  {
   "cell_type": "code",
   "execution_count": null,
   "metadata": {
    "collapsed": false
   },
   "outputs": [],
   "source": [
    "# 関数を使って分散と標準偏差を計算する\n",
    "# リストを定義する\n",
    "monk_fish_team = [158, 157, 163, 157, 145]\n",
    "volleyball_team = [143, 167, 170, 165]\n",
    "pravda_team = [127, 172, 140, 160, 174]\n",
    "\n",
    "# 分散を計算する\n",
    "monk_team_variance = calc_variance(monk_fish_team)\n",
    "volley_team_variance = calc_variance(volleyball_team)\n",
    "pravda_team_variance = calc_variance(pravda_team)\n",
    "\n",
    "# 標準偏差を計算する\n",
    "print(monk_team_variance**0.5)\n",
    "print(volley_team_variance**0.5)\n",
    "print(pravda_team_variance**0.5)"
   ]
  },
  {
   "cell_type": "code",
   "execution_count": null,
   "metadata": {
    "collapsed": true
   },
   "outputs": [],
   "source": []
  }
 ],
 "metadata": {
  "kernelspec": {
   "display_name": "Python 3",
   "language": "python",
   "name": "python3"
  },
  "language_info": {
   "codemirror_mode": {
    "name": "ipython",
    "version": 3
   },
   "file_extension": ".py",
   "mimetype": "text/x-python",
   "name": "python",
   "nbconvert_exporter": "python",
   "pygments_lexer": "ipython3",
   "version": "3.5.1"
  }
 },
 "nbformat": 4,
 "nbformat_minor": 0
}
