{
 "cells": [
  {
   "cell_type": "markdown",
   "metadata": {},
   "source": [
    "# Chapter02-08\n",
    "## モジュールを使う"
   ]
  },
  {
   "cell_type": "markdown",
   "metadata": {},
   "source": [
    "### モジュールをインポート(import)する"
   ]
  },
  {
   "cell_type": "code",
   "execution_count": null,
   "metadata": {
    "collapsed": false
   },
   "outputs": [],
   "source": [
    "# randomモジュールをインポートして使う\n",
    "import random                 # randomモジュールを読み込む\n",
    "\n",
    "print(random.random())        # 0 < x < 1 の乱数を得る\n",
    "print(random.randint(0, 6))   # 0 < x <= 6 の乱数を得る\n",
    "a_list = [0, 1, 2, 3, 4, 5]\n",
    "random.shuffle(a_list)        # リストをランダムに入れ替える\n",
    "print(a_list)\n",
    "print(random.choice(a_list))  # リストの要素をひとつランダムに選ぶ"
   ]
  },
  {
   "cell_type": "markdown",
   "metadata": {},
   "source": [
    "### import文のas"
   ]
  },
  {
   "cell_type": "code",
   "execution_count": null,
   "metadata": {
    "collapsed": false
   },
   "outputs": [],
   "source": [
    "import matplotlib.pyplot as plt  # pltという名前でmatplotlib.pyplotをインポート\n",
    "\n",
    "# グラフを表示するためのおまじない\n",
    "%matplotlib inline\n",
    "\n",
    "pravda_team = [127, 172, 140, 160, 174]\n",
    "plt.bar([1, 2, 3, 4, 5], pravda_team)  # pltを使ってグラフを描く"
   ]
  },
  {
   "cell_type": "markdown",
   "metadata": {},
   "source": [
    "### fromを使ったインポート"
   ]
  },
  {
   "cell_type": "code",
   "execution_count": null,
   "metadata": {
    "collapsed": false
   },
   "outputs": [],
   "source": [
    "# statisticsモジュールのmedian関数を使って中央値を計算する\n",
    "from statistics import median\n",
    "\n",
    "monk_fish_team = [158, 157, 163, 157, 145]\n",
    "volleyball_team = [143, 167, 170, 165]\n",
    "print(median(monk_fish_team))\n",
    "print(median(volleyball_team))"
   ]
  },
  {
   "cell_type": "code",
   "execution_count": null,
   "metadata": {
    "collapsed": true
   },
   "outputs": [],
   "source": []
  }
 ],
 "metadata": {
  "kernelspec": {
   "display_name": "Python 3",
   "language": "python",
   "name": "python3"
  },
  "language_info": {
   "codemirror_mode": {
    "name": "ipython",
    "version": 3
   },
   "file_extension": ".py",
   "mimetype": "text/x-python",
   "name": "python",
   "nbconvert_exporter": "python",
   "pygments_lexer": "ipython3",
   "version": "3.5.1"
  }
 },
 "nbformat": 4,
 "nbformat_minor": 0
}
