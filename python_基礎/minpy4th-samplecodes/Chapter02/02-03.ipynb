{
 "cells": [
  {
   "cell_type": "markdown",
   "metadata": {},
   "source": [
    "# Chapter 02-03\n",
    "## 文字列を使う"
   ]
  },
  {
   "cell_type": "markdown",
   "metadata": {},
   "source": [
    "### 文字列を定義する"
   ]
  },
  {
   "cell_type": "code",
   "execution_count": null,
   "metadata": {
    "collapsed": true
   },
   "outputs": [],
   "source": [
    "# 文字を引用符(クォーテーション)で囲むと文字列になります\n",
    "# イコールの左にあるむき出しの文字は「変数」です\n",
    "# イコールの右にあるクォーテーションで囲まれた文字が文字列です\n",
    "\n",
    "spam = \"spam\""
   ]
  },
  {
   "cell_type": "code",
   "execution_count": null,
   "metadata": {
    "collapsed": true
   },
   "outputs": [],
   "source": [
    "a_lylic = \"でもね私のエネルギーは\"    # 別の文字列を変数に代入"
   ]
  },
  {
   "cell_type": "markdown",
   "metadata": {},
   "source": [
    "### 文字列の連結"
   ]
  },
  {
   "cell_type": "code",
   "execution_count": null,
   "metadata": {
    "collapsed": true
   },
   "outputs": [],
   "source": [
    "a_lylic = a_lylic+\"すでにインフィニティだよ。\""
   ]
  },
  {
   "cell_type": "code",
   "execution_count": null,
   "metadata": {
    "collapsed": false
   },
   "outputs": [],
   "source": [
    "a_lylic      # 連結した文字列を確認"
   ]
  },
  {
   "cell_type": "markdown",
   "metadata": {},
   "source": [
    "### 複合演算子"
   ]
  },
  {
   "cell_type": "code",
   "execution_count": null,
   "metadata": {
    "collapsed": false
   },
   "outputs": [],
   "source": [
    "lylic2 = \"ずっと笑顔ばかりを選んで\"\n",
    "lylic2 += \"泣き顔見せるのを迷ってた\"\n",
    "lylic2       # 複合演算子を使って連結した文字列を確認 "
   ]
  },
  {
   "cell_type": "markdown",
   "metadata": {},
   "source": [
    "### コラム : 文字列定義の応用"
   ]
  },
  {
   "cell_type": "code",
   "execution_count": null,
   "metadata": {
    "collapsed": true
   },
   "outputs": [],
   "source": [
    "# 三連クオーテーションを使うと，改行を含んだ文字列を定義できます\n",
    "\n",
    "lylic3 = \"\"\"強い人になろうとして\n",
    "弱い僕を封じ込めて\n",
    "ひとりぼっちになった\"\"\"\n",
    "lylic3"
   ]
  },
  {
   "cell_type": "markdown",
   "metadata": {},
   "source": [
    "### 型をそろえるPythonの流儀"
   ]
  },
  {
   "cell_type": "code",
   "execution_count": null,
   "metadata": {
    "collapsed": false
   },
   "outputs": [],
   "source": [
    "# 数値と文字列を連結しようとすると…\n",
    "\n",
    "day = 24\n",
    "date = day+\"日\"  # このコードを実行するとエラーが起こります"
   ]
  },
  {
   "cell_type": "markdown",
   "metadata": {},
   "source": [
    "### 文字列と数値の変換(型変換)"
   ]
  },
  {
   "cell_type": "code",
   "execution_count": null,
   "metadata": {
    "collapsed": true
   },
   "outputs": [],
   "source": [
    "day = 24             # 数値の日付\n",
    "str_day = str(day)   # 数値を文字列に変換して変数に代入\n",
    "date = str_day+\"日\"  # 数値に変換した日付と文字列を連結する\n",
    "date"
   ]
  },
  {
   "cell_type": "code",
   "execution_count": null,
   "metadata": {
    "collapsed": false
   },
   "outputs": [],
   "source": [
    "# 文字列を数値に変換するときは組み込み関数を使う\n",
    "\n",
    "int(\"200\")     # 文字列を数値(整数)に変換"
   ]
  },
  {
   "cell_type": "code",
   "execution_count": null,
   "metadata": {
    "collapsed": false
   },
   "outputs": [],
   "source": [
    "float(\"3.14159265358979\")  # 文字列を数値(浮動小数点数)に変換"
   ]
  },
  {
   "cell_type": "code",
   "execution_count": null,
   "metadata": {
    "collapsed": true
   },
   "outputs": [],
   "source": []
  }
 ],
 "metadata": {
  "kernelspec": {
   "display_name": "Python 3",
   "language": "python",
   "name": "python3"
  },
  "language_info": {
   "codemirror_mode": {
    "name": "ipython",
    "version": 3
   },
   "file_extension": ".py",
   "mimetype": "text/x-python",
   "name": "python",
   "nbconvert_exporter": "python",
   "pygments_lexer": "ipython3",
   "version": "3.5.1"
  }
 },
 "nbformat": 4,
 "nbformat_minor": 0
}
