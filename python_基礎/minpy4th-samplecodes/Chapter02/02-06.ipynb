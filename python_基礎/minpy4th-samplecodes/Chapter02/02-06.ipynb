{
 "cells": [
  {
   "cell_type": "markdown",
   "metadata": {},
   "source": [
    "# Chapter 02-06\n",
    "## if文で条件分岐をする"
   ]
  },
  {
   "cell_type": "code",
   "execution_count": null,
   "metadata": {
    "collapsed": false
   },
   "outputs": [],
   "source": [
    "# 4つの2で10を作る\n",
    "# 式が10になるかどうかを調べる\n",
    "# 条件式が成り立つ時だけ，ブロックのprint()関数が実行されます\n",
    "\n",
    "if 2*2*2+2 == 10:\n",
    "    print(\"2*2*2+2は10\")\n",
    "if 2+2*2+2 == 10:\n",
    "    print(\"2+2*2+2は10\")\n",
    "if (2+2)*2+2 == 10:\n",
    "    print(\"(2+2)*2+2は10\")"
   ]
  },
  {
   "cell_type": "markdown",
   "metadata": {},
   "source": [
    "### 数値を比較する"
   ]
  },
  {
   "cell_type": "code",
   "execution_count": null,
   "metadata": {
    "collapsed": true
   },
   "outputs": [],
   "source": [
    "# 条件式が成り立つ時だけ，ブロックのprint()関数が実行されます\n",
    "\n",
    "if 1 == 1:\n",
    "    print(\"1番目はTrue\")\n",
    "if 5^(4-4)+9 == 10:\n",
    "    print(\"2番目はTrue\")\n",
    "if 2 < len([0, 1, 2]):\n",
    "    print(\"3番目はTrue\")\n",
    "if sum([1, 2, 3, 4]) < 10:\n",
    "    print(\"4番目はTrue\")"
   ]
  },
  {
   "cell_type": "markdown",
   "metadata": {},
   "source": [
    "### 文字列を比較する"
   ]
  },
  {
   "cell_type": "code",
   "execution_count": null,
   "metadata": {
    "collapsed": false
   },
   "outputs": [],
   "source": [
    "if \"AUG\" == \"AUG\":\n",
    "    print(\"1番目はTrue\")\n",
    "if \"AUG\" == \"aug\":\n",
    "    print(\"2番目はTrue\")\n",
    "if \"あいう\" == \"あいう\":\n",
    "    print(\"3番目はTrue\")"
   ]
  },
  {
   "cell_type": "markdown",
   "metadata": {},
   "source": [
    "### 文字列を検索する"
   ]
  },
  {
   "cell_type": "code",
   "execution_count": null,
   "metadata": {
    "collapsed": false
   },
   "outputs": [],
   "source": [
    "# inを使った文字列の検索\n",
    "\n",
    "if \"GAG\" in \"AUGACGGAGCUU\":\n",
    "    print(\"1番目はTrue\")\n",
    "if \"恋と戦いはあらゆることが正当化されるのよ\" in \"正当化\":\n",
    "    print(\"2番目はTrue\")\n",
    "if \"stumble\" in \"A horse may stumble though he has four legs\":\n",
    "    print(\"3番目はTrue\")"
   ]
  },
  {
   "cell_type": "markdown",
   "metadata": {},
   "source": [
    "### リストを比較する"
   ]
  },
  {
   "cell_type": "code",
   "execution_count": null,
   "metadata": {
    "collapsed": false
   },
   "outputs": [],
   "source": [
    "if [1, 2, 3, 4] == [1, 2, 3, 4]:\n",
    "    print(\"1番目はTrue\")\n",
    "if [1, 2, 3] == [2, 3]:\n",
    "    print(\"2番目はTrue\")\n",
    "if [1, 2, 3] == ['1', '2', '3']:\n",
    "    print(\"3番目はTrue\")"
   ]
  },
  {
   "cell_type": "markdown",
   "metadata": {},
   "source": [
    "### リストの要素を比較する"
   ]
  },
  {
   "cell_type": "code",
   "execution_count": null,
   "metadata": {
    "collapsed": false
   },
   "outputs": [],
   "source": [
    "if 2 in [2, 3, 5, 7, 11]:\n",
    "    print(\"1番目はTrue\")\n",
    "if 21 in [13, 17, 19, 23, 29]:\n",
    "    print(\"2番目はTrue\")\n",
    "if 'アッサム' in ['ダージリン', 'アッサム', 'オレンジペコ']:\n",
    "    print(\"3番目はTrue\")"
   ]
  },
  {
   "cell_type": "code",
   "execution_count": null,
   "metadata": {
    "collapsed": false
   },
   "outputs": [],
   "source": [
    "# リストの比較では，inの左にリストが来るケースに注意\n",
    "if 1 in [0, 1, 2, 3, 4]:\n",
    "    print(\"1番目はTrue\")\n",
    "if [1, 2] in [0, 1, 2, 3, 4]:\n",
    "    print(\"2番目はTrue\")\n",
    "if [1, 2] in [0, 1, [1, 2], 3, 4]:\n",
    "    print(\"3番目はTrue\")"
   ]
  },
  {
   "cell_type": "markdown",
   "metadata": {},
   "source": [
    "### else文を使う"
   ]
  },
  {
   "cell_type": "code",
   "execution_count": null,
   "metadata": {
    "collapsed": false
   },
   "outputs": [],
   "source": [
    "if 2^3-2+4 == 10:\n",
    "    print(\"式1は10\")\n",
    "else:\n",
    "    print(\"式1は10にならない\")\n",
    "if 2**3-2+4 == 10:\n",
    "    print(\"式2は10\")\n",
    "else:\n",
    "    print(\"式2は10にならない\")"
   ]
  },
  {
   "cell_type": "markdown",
   "metadata": {},
   "source": [
    "### elif文を使う"
   ]
  },
  {
   "cell_type": "code",
   "execution_count": null,
   "metadata": {
    "collapsed": false
   },
   "outputs": [],
   "source": [
    "# ifを多段にネストすると，インデントが深くなってコードが見づらくなる\n",
    "a_year = 2080\n",
    "if a_year >= 1993:\n",
    "    # 生まれた年か，それより後の場合\n",
    "    if a_year == 1993:\n",
    "        print(a_year, \"年，れに誕生\")\n",
    "    else:\n",
    "        print(a_year, \"年，れに\", a_year-1993, \"歳\")"
   ]
  },
  {
   "cell_type": "code",
   "execution_count": null,
   "metadata": {
    "collapsed": false
   },
   "outputs": [],
   "source": [
    "# elifを使うと同じ処理をすっきり書ける\n",
    "a_year = 2080\n",
    "if a_year == 1993:\n",
    "    print(a_year, \"年，れに誕生\")\n",
    "elif a_year > 1993:\n",
    "    print(a_year, \"年，れに\", a_year-1993, \"歳\")"
   ]
  },
  {
   "cell_type": "code",
   "execution_count": null,
   "metadata": {
    "collapsed": false
   },
   "outputs": [],
   "source": [
    "# ifとforを組み合わせて素数を調べる\n",
    "# a_numが素数の時には何も表示しません\n",
    "# 素数でない時には，その旨表示します\n",
    "\n",
    "# a_numに代入する数値を変えてセルを実行すると，いろいろな数について\n",
    "# 素数かどうかを調べることができます\n",
    "\n",
    "a_num = 57            # 素数かどうかを調べる数\n",
    "for num in range(2, a_num):  # 2からa_num-1まで繰り返す\n",
    "    if a_num % num == 0:     # a_numをnumで割り切れるか\n",
    "        print(a_num, \"は素数ではありません\")\n",
    "        break"
   ]
  },
  {
   "cell_type": "code",
   "execution_count": null,
   "metadata": {
    "collapsed": true
   },
   "outputs": [],
   "source": []
  }
 ],
 "metadata": {
  "kernelspec": {
   "display_name": "Python 3",
   "language": "python",
   "name": "python3"
  },
  "language_info": {
   "codemirror_mode": {
    "name": "ipython",
    "version": 3
   },
   "file_extension": ".py",
   "mimetype": "text/x-python",
   "name": "python",
   "nbconvert_exporter": "python",
   "pygments_lexer": "ipython3",
   "version": "3.5.1"
  }
 },
 "nbformat": 4,
 "nbformat_minor": 0
}
