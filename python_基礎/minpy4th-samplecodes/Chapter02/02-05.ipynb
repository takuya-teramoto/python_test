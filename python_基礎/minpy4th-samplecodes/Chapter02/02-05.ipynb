{
 "cells": [
  {
   "cell_type": "markdown",
   "metadata": {},
   "source": [
    "# Chapter 02-05\n",
    "## for文でループを使う"
   ]
  },
  {
   "cell_type": "code",
   "execution_count": null,
   "metadata": {
    "collapsed": false
   },
   "outputs": [],
   "source": [
    "# for文のループを使ってリストの要素をひとつずつ表示する\n",
    "mcz = ['れに', 'かなこ', 'しおり', 'あやか', 'ももか']\n",
    "for member in mcz:\n",
    "    print(member)"
   ]
  },
  {
   "cell_type": "code",
   "execution_count": null,
   "metadata": {
    "collapsed": false
   },
   "outputs": [],
   "source": [
    "mcz      # ループが終わった後もリストの内容が変わらないことを確認"
   ]
  },
  {
   "cell_type": "code",
   "execution_count": null,
   "metadata": {
    "collapsed": false
   },
   "outputs": [],
   "source": [
    "# for文を使って分散を計算\n",
    "# あんこうチーム\n",
    "monk_fish_team = [158, 157, 163, 157, 145]\n",
    "\n",
    "total = sum(monk_fish_team)    # リストの合計\n",
    "length = len(monk_fish_team)   # リストの要素数(長さ)\n",
    "mean = total/length            # 算術平均を求める\n",
    "variance = 0                   # 分散を計算するための変数\n",
    "\n",
    "for height in monk_fish_team:\n",
    "    variance = variance+(height-mean)**2 # 身長から平均を引いて二乗\n",
    "\n",
    "variance = variance/length     # 足した数値を要素数で割って分散を求める\n",
    "variance"
   ]
  },
  {
   "cell_type": "code",
   "execution_count": null,
   "metadata": {
    "collapsed": false
   },
   "outputs": [],
   "source": [
    "variance**0.5    # 分散のルートを計算して標準偏差を表示"
   ]
  },
  {
   "cell_type": "code",
   "execution_count": null,
   "metadata": {
    "collapsed": false
   },
   "outputs": [],
   "source": [
    "# 別の身長リストから標準偏差を計算，表示\n",
    "# バレーボールチーム\n",
    "volleyball_team = [143, 167, 170, 165]\n",
    "\n",
    "total2 = sum(volleyball_team)    # リストの合計\n",
    "length2 = len(volleyball_team)   # リストの要素数(長さ)\n",
    "mean2 = total2/length2           # 算術平均を求める\n",
    "variance2 = 0                    # 分散を計算するための変数\n",
    "\n",
    "for height in volleyball_team:\n",
    "    variance2 = variance2+(height-mean2)**2 # 身長から平均を引いて二乗\n",
    "\n",
    "variance2 = variance2/length2  # 足した数値を要素数で割って分散を求める\n",
    "variance2**0.5"
   ]
  },
  {
   "cell_type": "markdown",
   "metadata": {},
   "source": [
    "### range()関数"
   ]
  },
  {
   "cell_type": "code",
   "execution_count": null,
   "metadata": {
    "collapsed": false
   },
   "outputs": [],
   "source": [
    "# range()を使って0から9までを表示\n",
    "for cnt in range(10):\n",
    "    print(cnt)"
   ]
  },
  {
   "cell_type": "code",
   "execution_count": null,
   "metadata": {
    "collapsed": false
   },
   "outputs": [],
   "source": [
    "# range()を使って複利計算をする\n",
    "# 年利5%の金融商品に100万円預けたら15年後にいくらになるか\n",
    "savings = 100               # 元金\n",
    "for i in range(15):         # 15年分繰り返すループ\n",
    "    savings = savings+savings*0.05\n",
    "\n",
    "savings"
   ]
  },
  {
   "cell_type": "markdown",
   "metadata": {
    "collapsed": true
   },
   "source": [
    "ところで，金利15%でお金を借りると，何年で倍になるでしょうか？ 上のコードにある数値を書き換えて，実際に試してみましょう。\n",
    "\n",
    "クレジットカードのリボ払いで商品を買ったり，消費者金融からお金を借りると金利が15%ほどつきます。"
   ]
  },
  {
   "cell_type": "code",
   "execution_count": null,
   "metadata": {
    "collapsed": true
   },
   "outputs": [],
   "source": []
  }
 ],
 "metadata": {
  "kernelspec": {
   "display_name": "Python 3",
   "language": "python",
   "name": "python3"
  },
  "language_info": {
   "codemirror_mode": {
    "name": "ipython",
    "version": 3
   },
   "file_extension": ".py",
   "mimetype": "text/x-python",
   "name": "python",
   "nbconvert_exporter": "python",
   "pygments_lexer": "ipython3",
   "version": "3.5.1"
  }
 },
 "nbformat": 4,
 "nbformat_minor": 0
}
