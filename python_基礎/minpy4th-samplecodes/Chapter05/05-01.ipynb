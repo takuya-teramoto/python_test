{
 "cells": [
  {
   "cell_type": "markdown",
   "metadata": {},
   "source": [
    "# Chapter 05-01\n",
    "## Pythonと関数型プログラミング"
   ]
  },
  {
   "cell_type": "markdown",
   "metadata": {},
   "source": [
    "## 関数型プログラミングとは何か"
   ]
  },
  {
   "cell_type": "code",
   "execution_count": null,
   "metadata": {
    "collapsed": false
   },
   "outputs": [],
   "source": [
    "# リストのreverse()メソッドを使った回文判定\n",
    "orig_str = \"よのなかねかおかおかねかなのよ\"\n",
    "str_list = list(orig_str)     # 文字列をリストに変換\n",
    "str_list.reverse()            # リストを反転\n",
    "''.join(str_list) == orig_str # リストを文字列に直し回文判定"
   ]
  },
  {
   "cell_type": "code",
   "execution_count": null,
   "metadata": {
    "collapsed": false
   },
   "outputs": [],
   "source": [
    "# reversed()を使った回文判定\n",
    "orig_str = \"おかしがすきすきすがしかお\"\n",
    "\"\".join(reversed(orig_str)) == orig_str"
   ]
  },
  {
   "cell_type": "code",
   "execution_count": null,
   "metadata": {
    "collapsed": false
   },
   "outputs": [],
   "source": [
    "# ちなみに，文字列の反転だけならスライスのステップ数を使うのが\n",
    "# 一番簡単\n",
    "\n",
    "orig_str = \"わたしまけましたわ\"\n",
    "orig_str == orig_str[::-1]\n",
    "\n",
    "# スライスも関数型的な操作と言えるかも知れません"
   ]
  },
  {
   "cell_type": "markdown",
   "metadata": {},
   "source": [
    "### Pythonの式と文"
   ]
  },
  {
   "cell_type": "code",
   "execution_count": null,
   "metadata": {
    "collapsed": false
   },
   "outputs": [],
   "source": [
    "# Pythonの文\n",
    "\n",
    "# if文， for文， def文など，「〜文」と呼ばれる機能\n",
    "# 「文」では改行を要求します\n",
    "if \"\":\n",
    "    print(\"このブロックは実行されません\")\n",
    "else:\n",
    "    print(\"Pythonでは空文字列が偽と判定されます\")\n",
    "    \n",
    "# Pythonでは，代入も「文」の仲間です\n",
    "# 「代入文」などと呼ばれます\n",
    "var = 123      "
   ]
  },
  {
   "cell_type": "code",
   "execution_count": null,
   "metadata": {
    "collapsed": false
   },
   "outputs": [],
   "source": [
    "# Pythonの式\n",
    "\n",
    "# 関数/メソッド呼び出し，演算子や比較演算子を含む式などが「式」です\n",
    "\n",
    "print(\"\".join(reversed(\"ろりこんげかいいいかげんこりろ\")))"
   ]
  },
  {
   "cell_type": "code",
   "execution_count": null,
   "metadata": {
    "collapsed": false
   },
   "outputs": [],
   "source": [
    "# 「式」は改行せずにいくらでも長く続けることができます\n",
    "# しかし，一行をあまり長くしすぎると読みにくくなるので注意\n",
    "\n",
    "# 素数を探す関数をワンライナーで定義\n",
    "primelist = lambda n : [x for x in range(2, n) if not 0 in map(lambda z : x % z, range(2,x))]\n",
    "primelist(30)  # 30までの素数を探す"
   ]
  },
  {
   "cell_type": "markdown",
   "metadata": {},
   "source": [
    "### lambda式"
   ]
  },
  {
   "cell_type": "code",
   "execution_count": null,
   "metadata": {
    "collapsed": false
   },
   "outputs": [],
   "source": [
    "# lambdaを使ってソート順をカスタマイズする\n",
    "tank_data = [(\"IV号戦車\", 38, 80, 75), (\"LT-38\", 42, 50, 37),\n",
    "             (\"八九式中戦車\", 20, 17, 57), (\"III号突撃砲\", 40, 50, 75),\n",
    "             (\"M3中戦車\", 39, 51, 75)]\n",
    "def evaluate_tankdata(tup):\n",
    "    # 戦車の諸元を足して返す関数\n",
    "    return tup[1]+tup[2]+tup[3]\n",
    "\n",
    "#def evaluate_tankdata(tup):\n",
    "#    # 戦車の諸元を足して返す関数\n",
    "#    return tup[1]+tup[2]+tup[3]\n",
    "\n",
    "tank_data.sort(key=lambda tup: sum(tup[1:4]), reverse=True)\n",
    "print(tank_data)"
   ]
  },
  {
   "cell_type": "code",
   "execution_count": null,
   "metadata": {
    "collapsed": false
   },
   "outputs": [],
   "source": [
    "# sorted()を使ってソートする\n",
    "r = sorted(tank_data, key=lambda tup: sum(tup[1:4]), reverse=True)\n",
    "print(r)"
   ]
  },
  {
   "cell_type": "code",
   "execution_count": null,
   "metadata": {
    "collapsed": true
   },
   "outputs": [],
   "source": []
  }
 ],
 "metadata": {
  "kernelspec": {
   "display_name": "Python 3",
   "language": "python",
   "name": "python3"
  },
  "language_info": {
   "codemirror_mode": {
    "name": "ipython",
    "version": 3
   },
   "file_extension": ".py",
   "mimetype": "text/x-python",
   "name": "python",
   "nbconvert_exporter": "python",
   "pygments_lexer": "ipython3",
   "version": "3.5.1"
  }
 },
 "nbformat": 4,
 "nbformat_minor": 0
}
