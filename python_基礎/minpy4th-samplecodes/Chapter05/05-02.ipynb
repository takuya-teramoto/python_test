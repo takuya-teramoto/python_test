{
 "cells": [
  {
   "cell_type": "markdown",
   "metadata": {},
   "source": [
    "# Chapter05-02\n",
    "## 内包表記(コンプリヘンション)"
   ]
  },
  {
   "cell_type": "markdown",
   "metadata": {},
   "source": [
    "### 内包表記とは"
   ]
  },
  {
   "cell_type": "code",
   "execution_count": null,
   "metadata": {
    "collapsed": false
   },
   "outputs": [],
   "source": [
    "# リスト内包表記を使って分散を計算する\n",
    "monk_fish_team = [158, 157, 163, 157, 145]\n",
    "\n",
    "total = sum(monk_fish_team)    # リストの合計\n",
    "length = len(monk_fish_team)   # リストの要素数(長さ)\n",
    "mean = total/length            # 算術平均を求める\n",
    "\n",
    "# for height in monk_fish_team:\n",
    "#     variance = variance+(height-mean)**2\n",
    "#\n",
    "# variance = variance/length\n",
    "\n",
    "variance = sum([(h-mean)**2 for h in monk_fish_team])/length\n",
    "\n",
    "variance"
   ]
  },
  {
   "cell_type": "markdown",
   "metadata": {},
   "source": [
    "### リスト内包表記"
   ]
  },
  {
   "cell_type": "code",
   "execution_count": null,
   "metadata": {
    "collapsed": false
   },
   "outputs": [],
   "source": [
    "# 上のコードからリスト内包表記だけを抜き出して実行\n",
    "[(h-mean)**2 for h in monk_fish_team]"
   ]
  },
  {
   "cell_type": "code",
   "execution_count": null,
   "metadata": {
    "collapsed": false
   },
   "outputs": [],
   "source": [
    "# 数値相当の文字列を数値に変換しながらリストを作る\n",
    "str_speeds = \"38 42 20 40 39\"\n",
    "speeds = [int(s) for s in str_speeds.split()]\n",
    "speeds\n",
    "\n",
    "[38, 42, 20, 40, 39]"
   ]
  },
  {
   "cell_type": "markdown",
   "metadata": {},
   "source": [
    "### リスト内包表記で利用する「if」"
   ]
  },
  {
   "cell_type": "code",
   "execution_count": null,
   "metadata": {
    "collapsed": false
   },
   "outputs": [],
   "source": [
    "# リスト内包表記のifを使って数値に変換できない文字列を判定\n",
    "str_speeds = \"38 42 20 40 a1 39\"\n",
    "speeds = [int(s) for s in str_speeds.split()\n",
    "                              if s.isdigit()]\n",
    "speeds"
   ]
  },
  {
   "cell_type": "markdown",
   "metadata": {},
   "source": [
    "### ディクショナリ内包表記"
   ]
  },
  {
   "cell_type": "code",
   "execution_count": null,
   "metadata": {
    "collapsed": false
   },
   "outputs": [],
   "source": [
    "# ディクショナリ内包表記を使ってキーと値を逆転したディクショナリを作る\n",
    "# タイムゾーンのディクショナリを作る\n",
    "tz = {\"GMT\":\"+000\", \"BST\":\"+100\",\n",
    "      \"EET\":\"+200\", \"JST\":\"+900\"}\n",
    "# ゾーンと時差を逆にしたディクショナリを作る\n",
    "revtz = {off:zone for zone, off in tz.items()}\n",
    "revtz"
   ]
  },
  {
   "cell_type": "markdown",
   "metadata": {},
   "source": [
    "### set内包表記"
   ]
  },
  {
   "cell_type": "code",
   "execution_count": null,
   "metadata": {
    "collapsed": false
   },
   "outputs": [],
   "source": [
    "# set内包表記を使って重複を取り除きながらsetを作る\n",
    "names = [\"BOB\", \"burton\", \"dave\", \"bob\"]  # 名前のリストを定義\n",
    "unames = {x.lower() for x in names}       # 名前を小文字にして重複を除去\n",
    "unames"
   ]
  },
  {
   "cell_type": "code",
   "execution_count": null,
   "metadata": {
    "collapsed": true
   },
   "outputs": [],
   "source": []
  }
 ],
 "metadata": {
  "kernelspec": {
   "display_name": "Python 3",
   "language": "python",
   "name": "python3"
  },
  "language_info": {
   "codemirror_mode": {
    "name": "ipython",
    "version": 3
   },
   "file_extension": ".py",
   "mimetype": "text/x-python",
   "name": "python",
   "nbconvert_exporter": "python",
   "pygments_lexer": "ipython3",
   "version": "3.5.1"
  }
 },
 "nbformat": 4,
 "nbformat_minor": 0
}
