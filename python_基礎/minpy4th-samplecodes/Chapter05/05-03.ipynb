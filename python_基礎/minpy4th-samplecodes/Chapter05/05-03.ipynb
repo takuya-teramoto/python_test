{
 "cells": [
  {
   "cell_type": "markdown",
   "metadata": {},
   "source": [
    "# Chapter05-03\n",
    "## イテレータを使う"
   ]
  },
  {
   "cell_type": "markdown",
   "metadata": {},
   "source": [
    "### イテレータと遅延評価"
   ]
  },
  {
   "cell_type": "code",
   "execution_count": null,
   "metadata": {
    "collapsed": false
   },
   "outputs": [],
   "source": [
    "# ファイルから全て読み込んで先頭の5行を表示する\n",
    "f = open('some.txt')           # ファイルオブジェクトを作る\n",
    "body = f.read()                # ファイル全体を読み込む\n",
    "lines = body.split('\\n')       # ファイルを改行で分割\n",
    "print('\\n'.join(lines[:5]))    # 先頭の5行を表示"
   ]
  },
  {
   "cell_type": "code",
   "execution_count": null,
   "metadata": {
    "collapsed": false
   },
   "outputs": [],
   "source": [
    "# ループカウンタを使って先頭の5行だけ読み込む\n",
    "f = open('some.txt')       # ファイルオブジェクトを作る\n",
    "lines = ''                 # 表示する文字列を初期化\n",
    "for i in range(5):         # 先頭から5行読み込む\n",
    "    lines += f.readline()\n",
    "print(lines)               # 先頭の5行を表示する"
   ]
  },
  {
   "cell_type": "code",
   "execution_count": null,
   "metadata": {
    "collapsed": false
   },
   "outputs": [],
   "source": [
    "# ファイルオブジェクトをforに添えて5行だけ読み込む\n",
    "# ファイルから一行ずつ読み込む\n",
    "for c, l in enumerate(open('some.txt')):\n",
    "    print(l, end='')  # 行を表示\n",
    "    if c == 4:        # 5行表示したらループを抜ける\n",
    "        break"
   ]
  },
  {
   "cell_type": "markdown",
   "metadata": {},
   "source": [
    "### コラム : Pythonのイテレータ実装"
   ]
  },
  {
   "cell_type": "code",
   "execution_count": null,
   "metadata": {
    "collapsed": true
   },
   "outputs": [],
   "source": [
    "i = iter([1, 2])   # リストをイテレータオブジェクトに変換する"
   ]
  },
  {
   "cell_type": "code",
   "execution_count": null,
   "metadata": {
    "collapsed": false
   },
   "outputs": [],
   "source": [
    "next(i)   # 最初の要素を取り出す"
   ]
  },
  {
   "cell_type": "code",
   "execution_count": null,
   "metadata": {
    "collapsed": false
   },
   "outputs": [],
   "source": [
    "next(i)   # 次の要素を取り出す"
   ]
  },
  {
   "cell_type": "code",
   "execution_count": null,
   "metadata": {
    "collapsed": false
   },
   "outputs": [],
   "source": [
    "next(i)   # 要素がなくなったのでStopIteration例外が発生する"
   ]
  },
  {
   "cell_type": "code",
   "execution_count": null,
   "metadata": {
    "collapsed": true
   },
   "outputs": [],
   "source": []
  }
 ],
 "metadata": {
  "kernelspec": {
   "display_name": "Python 3",
   "language": "python",
   "name": "python3"
  },
  "language_info": {
   "codemirror_mode": {
    "name": "ipython",
    "version": 3
   },
   "file_extension": ".py",
   "mimetype": "text/x-python",
   "name": "python",
   "nbconvert_exporter": "python",
   "pygments_lexer": "ipython3",
   "version": "3.5.1"
  }
 },
 "nbformat": 4,
 "nbformat_minor": 0
}
