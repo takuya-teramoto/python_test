{
 "cells": [
  {
   "cell_type": "markdown",
   "metadata": {},
   "source": [
    "# Chapter05-08\n",
    "## 高階関数とデコレータ"
   ]
  },
  {
   "cell_type": "markdown",
   "metadata": {},
   "source": [
    "### 高階関数とは"
   ]
  },
  {
   "cell_type": "code",
   "execution_count": null,
   "metadata": {
    "collapsed": false
   },
   "outputs": [],
   "source": [
    "# 関数を受け取り実行する関数を定義する\n",
    "def execute(func, arg):\n",
    "    return func(arg)   # 引数として受け取った関数を実行する\n",
    "\n",
    "print(execute(int, \"100\"))  # 関数を引数に渡して実行"
   ]
  },
  {
   "cell_type": "code",
   "execution_count": null,
   "metadata": {
    "collapsed": true
   },
   "outputs": [],
   "source": [
    "# 関数を受け取り実行する関数を定義する\n",
    "def logger(func):\n",
    "    def inner(*args):\n",
    "        print(\"引数:\", args)  # 引数リストを表示\n",
    "        return func(*args)   # 関数を呼び出す\n",
    "    return inner"
   ]
  },
  {
   "cell_type": "code",
   "execution_count": null,
   "metadata": {
    "collapsed": false
   },
   "outputs": [],
   "source": [
    "# 2つの値を足す関数を定義\n",
    "def accumulate(a, b):\n",
    "    return a+b\n",
    "\n",
    "print(accumulate(1, 2))   # 関数を呼び出す"
   ]
  },
  {
   "cell_type": "code",
   "execution_count": null,
   "metadata": {
    "collapsed": false
   },
   "outputs": [],
   "source": [
    "# loggerを使ってaccumulateを変換\n",
    "newfunc = logger(accumulate)\n",
    "print(newfunc(1, 2))      # 高階関数で作った関数を呼び出す"
   ]
  },
  {
   "cell_type": "markdown",
   "metadata": {},
   "source": [
    "### デコレータ"
   ]
  },
  {
   "cell_type": "code",
   "execution_count": null,
   "metadata": {
    "collapsed": true
   },
   "outputs": [],
   "source": [
    "# 高階関数とデコレータを組み合わせる\n",
    "@logger\n",
    "def accumulate(a, b):\n",
    "    return a+b"
   ]
  },
  {
   "cell_type": "code",
   "execution_count": null,
   "metadata": {
    "collapsed": false
   },
   "outputs": [],
   "source": [
    "print(accumulate(1, 2))"
   ]
  },
  {
   "cell_type": "code",
   "execution_count": null,
   "metadata": {
    "collapsed": true
   },
   "outputs": [],
   "source": [
    "# functoolsのlru_cacheを使う\n",
    "\n",
    "# lru_cacheを使ってフィボナッチ数を計算する関数\n",
    "from functools import lru_cache\n",
    "@lru_cache(maxsize=None)\n",
    "def fib(n):\n",
    "    if n < 2:\n",
    "        return n\n",
    "    return fib(n-1) + fib(n-2)"
   ]
  },
  {
   "cell_type": "code",
   "execution_count": null,
   "metadata": {
    "collapsed": false
   },
   "outputs": [],
   "source": [
    "# 実行時間を計測\n",
    "%time [fib(n) for n in range(16)]"
   ]
  },
  {
   "cell_type": "code",
   "execution_count": null,
   "metadata": {
    "collapsed": true
   },
   "outputs": [],
   "source": [
    "# lru_cacheを「使わず」フィボナッチ数を計算する関数\n",
    "def fib_nc(n):\n",
    "    if n < 2:\n",
    "        return n\n",
    "    return fib_nc(n-1) + fib_nc(n-2)"
   ]
  },
  {
   "cell_type": "code",
   "execution_count": null,
   "metadata": {
    "collapsed": false
   },
   "outputs": [],
   "source": [
    "# 実行時間を計測\n",
    "%time [fib_nc(n) for n in range(16)]"
   ]
  },
  {
   "cell_type": "code",
   "execution_count": null,
   "metadata": {
    "collapsed": true
   },
   "outputs": [],
   "source": []
  }
 ],
 "metadata": {
  "kernelspec": {
   "display_name": "Python 3",
   "language": "python",
   "name": "python3"
  },
  "language_info": {
   "codemirror_mode": {
    "name": "ipython",
    "version": 3
   },
   "file_extension": ".py",
   "mimetype": "text/x-python",
   "name": "python",
   "nbconvert_exporter": "python",
   "pygments_lexer": "ipython3",
   "version": "3.5.1"
  }
 },
 "nbformat": 4,
 "nbformat_minor": 0
}
