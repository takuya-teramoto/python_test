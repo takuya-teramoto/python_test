{
 "cells": [
  {
   "cell_type": "markdown",
   "metadata": {},
   "source": [
    "# Chapter07-01\n",
    "## クラスを継承する"
   ]
  },
  {
   "cell_type": "code",
   "execution_count": null,
   "metadata": {
    "collapsed": true
   },
   "outputs": [],
   "source": [
    "# Prismクラス(角柱)を再度定義する\n",
    "class Prism:\n",
    "    def __init__(self, width, height, depth):\n",
    "        # 初期化メソッドを定義\n",
    "        self.width = width    # 引数をアトリビュートに代入\n",
    "        self.height = height\n",
    "        self.depth = depth\n",
    "\n",
    "    def content(self):\n",
    "        # 体積を求める\n",
    "        return self.width*self.height*self.depth"
   ]
  },
  {
   "cell_type": "code",
   "execution_count": null,
   "metadata": {
    "collapsed": false
   },
   "outputs": [],
   "source": [
    "# スーパークラスを指定してPrismを継承したCubeクラスを定義\n",
    "class Cube(Prism):\n",
    "    def __init__(self, length):\n",
    "        # 初期化メソッドをオーバーライド\n",
    "        self.width = self.height = self.depth = length"
   ]
  },
  {
   "cell_type": "code",
   "execution_count": null,
   "metadata": {
    "collapsed": false
   },
   "outputs": [],
   "source": [
    "c = Cube(20)     # lengthに20を渡してCubeインスタンスを作る\n",
    "c.content()"
   ]
  },
  {
   "cell_type": "markdown",
   "metadata": {},
   "source": [
    "### 初期化メソッドのオーバーライド"
   ]
  },
  {
   "cell_type": "code",
   "execution_count": null,
   "metadata": {
    "collapsed": true
   },
   "outputs": [],
   "source": [
    "# 初期化メソッドに引数(単位)を追加してPrismクラスを再定義\n",
    "class Prism:\n",
    "    def __init__(self, width, height, depth, unit=\"cm\"):\n",
    "        self.width = width\n",
    "        self.height = height\n",
    "        self.depth = depth\n",
    "        self.unit = unit\n",
    "        print(unit)\n",
    "\n",
    "    def content(self):\n",
    "        # 体積を求める\n",
    "        return self.width*self.height*self.depth        \n",
    "\n",
    "    def unit_content(self):\n",
    "        # 体積を求め，単位を連結して文字列を返す\n",
    "        return str(self.content())+self.unit            "
   ]
  },
  {
   "cell_type": "code",
   "execution_count": null,
   "metadata": {
    "collapsed": true
   },
   "outputs": [],
   "source": [
    "# Cubeクラスを再定義\n",
    "class Cube(Prism):\n",
    "    def __init__(self, length):\n",
    "        # 初期化メソッドをオーバーライド\n",
    "        self.width = self.height = self.depth = length"
   ]
  },
  {
   "cell_type": "code",
   "execution_count": null,
   "metadata": {
    "collapsed": false
   },
   "outputs": [],
   "source": [
    "# Prismクラスを継承したCubeクラスで追加したメソッドを呼び出してみる\n",
    "c = Cube(10)\n",
    "c.unit_content()"
   ]
  },
  {
   "cell_type": "markdown",
   "metadata": {},
   "source": [
    "### super()を使ったスーパークラスの取得"
   ]
  },
  {
   "cell_type": "code",
   "execution_count": null,
   "metadata": {
    "collapsed": true
   },
   "outputs": [],
   "source": [
    "# super()を使ってCubeクラスを再定義\n",
    "class Cube(Prism):\n",
    "    def __init__(self, length):\n",
    "        super().__init__(length, length, length)\n"
   ]
  },
  {
   "cell_type": "code",
   "execution_count": null,
   "metadata": {
    "collapsed": false
   },
   "outputs": [],
   "source": [
    "c2 = Cube(10)\n",
    "c2.unit_content()"
   ]
  },
  {
   "cell_type": "markdown",
   "metadata": {},
   "source": [
    "### スロット"
   ]
  },
  {
   "cell_type": "code",
   "execution_count": null,
   "metadata": {
    "collapsed": false
   },
   "outputs": [],
   "source": [
    "# スロットを持つクラスを定義\n",
    "class Klass:\n",
    "    __slots__ = ['a', 'b']  # アトリビュートを制限\n",
    "    def __init__(self):\n",
    "        self.a = 1\n",
    "\n",
    "i = Klass()      # インスタンスを作る\n",
    "i.a              # アトリビュートを確認"
   ]
  },
  {
   "cell_type": "code",
   "execution_count": null,
   "metadata": {
    "collapsed": false
   },
   "outputs": [],
   "source": [
    "i.b = 2          # bというアトリビュートを追加\n",
    "i.b"
   ]
  },
  {
   "cell_type": "code",
   "execution_count": null,
   "metadata": {
    "collapsed": false
   },
   "outputs": [],
   "source": [
    "i.c = 3          # cというアトリビュートは追加できない(エラーになる)"
   ]
  },
  {
   "cell_type": "markdown",
   "metadata": {},
   "source": [
    "### プロパティ"
   ]
  },
  {
   "cell_type": "code",
   "execution_count": null,
   "metadata": {
    "collapsed": true
   },
   "outputs": [],
   "source": [
    "# プロパティを定義したクラスを定義\n",
    "class Prop:\n",
    "    def __init__(self):\n",
    "        self.__x = 0    # アトリビュートを定義\n",
    "\n",
    "    def getx(self):     # ゲッター\n",
    "        return self.__x # アトリビュートを返す\n",
    "\n",
    "    def setx(self, x):  # セッター\n",
    "        self.__x = x   # アトリビュートに代入\n",
    "    \n",
    "    x = property(getx, setx) # プロパティを設定\n",
    "    "
   ]
  },
  {
   "cell_type": "code",
   "execution_count": null,
   "metadata": {
    "collapsed": false
   },
   "outputs": [],
   "source": [
    "i = Prop()     # インスタンスを作る\n",
    "i.x            # アトリビュートxを参照"
   ]
  },
  {
   "cell_type": "code",
   "execution_count": null,
   "metadata": {
    "collapsed": false
   },
   "outputs": [],
   "source": [
    "i.x = 10       # xに代入\n",
    "i.x            # アトリビュートxを参照"
   ]
  },
  {
   "cell_type": "code",
   "execution_count": null,
   "metadata": {
    "collapsed": false
   },
   "outputs": [],
   "source": [
    "i._Prop__x     # __xに無理矢理アクセス"
   ]
  },
  {
   "cell_type": "markdown",
   "metadata": {},
   "source": [
    "### オマケ デコレータを使うと，より手軽にプロパティを定義できる"
   ]
  },
  {
   "cell_type": "code",
   "execution_count": null,
   "metadata": {
    "collapsed": false
   },
   "outputs": [],
   "source": [
    "# デコレータを使ってプロパティを定義したクラスを定義\n",
    "\n",
    "class DecProp:\n",
    "    def __init__(self):\n",
    "        self.__x = 0\n",
    "\n",
    "    @property\n",
    "    def x(self):\n",
    "        # x = property(x.getter(x), x.setter(x)) \n",
    "        return None\n",
    "    \n",
    "    # getterを定義\n",
    "    @x.getter\n",
    "    def x(self):\n",
    "        print('this is getter, value is', self.__x)\n",
    "        return(self.__x)\n",
    "\n",
    "    # setterを定義\n",
    "    @x.setter\n",
    "    def x(self, value):\n",
    "        print('this is setter, value is', value)\n",
    "        self.__x = value\n"
   ]
  },
  {
   "cell_type": "code",
   "execution_count": null,
   "metadata": {
    "collapsed": false
   },
   "outputs": [],
   "source": [
    "dp = DecProp()   # デコレータを使ったプロパティを持つインスタンスを生成\n",
    "dp.x             # __init__()で定義した初期値を表示，getterが呼び出されている"
   ]
  },
  {
   "cell_type": "code",
   "execution_count": null,
   "metadata": {
    "collapsed": false
   },
   "outputs": [],
   "source": [
    "dp.x = 1          # setterを呼び出して値を更新"
   ]
  },
  {
   "cell_type": "code",
   "execution_count": null,
   "metadata": {
    "collapsed": false
   },
   "outputs": [],
   "source": [
    "dp.x              # 値が更新されているかどうか確認"
   ]
  },
  {
   "cell_type": "code",
   "execution_count": null,
   "metadata": {
    "collapsed": true
   },
   "outputs": [],
   "source": []
  }
 ],
 "metadata": {
  "kernelspec": {
   "display_name": "Python 3",
   "language": "python",
   "name": "python3"
  },
  "language_info": {
   "codemirror_mode": {
    "name": "ipython",
    "version": 3
   },
   "file_extension": ".py",
   "mimetype": "text/x-python",
   "name": "python",
   "nbconvert_exporter": "python",
   "pygments_lexer": "ipython3",
   "version": "3.5.1"
  }
 },
 "nbformat": 4,
 "nbformat_minor": 0
}
