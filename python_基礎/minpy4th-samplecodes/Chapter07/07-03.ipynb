{
 "cells": [
  {
   "cell_type": "markdown",
   "metadata": {},
   "source": [
    "# Chapter 07-03\n",
    "## 組み込み型を継承する"
   ]
  },
  {
   "cell_type": "markdown",
   "metadata": {},
   "source": [
    "## ディクショナリを継承する"
   ]
  },
  {
   "cell_type": "code",
   "execution_count": null,
   "metadata": {
    "collapsed": true
   },
   "outputs": [],
   "source": [
    "class StrDict(dict):\n",
    "    \"\"\" ディクショナリ型を継承してクラスを作る\n",
    "    \"\"\"\n",
    "    def __init__(self):\n",
    "        pass\n",
    "\n",
    "    def __setitem__(self, key, value):\n",
    "        \"\"\" 特殊メソッドをオーバーライド\n",
    "            keyが文字列型以外なら例外を発生\n",
    "        \"\"\"\n",
    "        if not isinstance(key, str):\n",
    "            # キーが文字列でない場合には例外を発生\n",
    "            raise ValueError(\"Key must be string.\")\n",
    "            # スーパークラスの特殊メソッドを呼び出し，キーと値を設定\n",
    "        dict.__setitem__(self, key, value)"
   ]
  },
  {
   "cell_type": "code",
   "execution_count": null,
   "metadata": {
    "collapsed": false
   },
   "outputs": [],
   "source": [
    "# StrDictクラスを使う\n",
    "d = StrDict()   # インスタンスを生成\n",
    "d[\"spam\"] = 1   # ディクショナリのようにキーを使って要素を追加\n",
    "d[\"spam\"]       # 追加した要素を確認"
   ]
  },
  {
   "cell_type": "code",
   "execution_count": null,
   "metadata": {
    "collapsed": false
   },
   "outputs": [],
   "source": [
    "d[1] = 1        # 数値のキーで要素を追加仕様とするとエラーに"
   ]
  },
  {
   "cell_type": "code",
   "execution_count": null,
   "metadata": {
    "collapsed": false
   },
   "outputs": [],
   "source": [
    "d.keys()       # ディクショナリのキーも利用できる"
   ]
  },
  {
   "cell_type": "code",
   "execution_count": null,
   "metadata": {
    "collapsed": true
   },
   "outputs": [],
   "source": []
  }
 ],
 "metadata": {
  "kernelspec": {
   "display_name": "Python 3",
   "language": "python",
   "name": "python3"
  },
  "language_info": {
   "codemirror_mode": {
    "name": "ipython",
    "version": 3
   },
   "file_extension": ".py",
   "mimetype": "text/x-python",
   "name": "python",
   "nbconvert_exporter": "python",
   "pygments_lexer": "ipython3",
   "version": "3.5.1"
  }
 },
 "nbformat": 4,
 "nbformat_minor": 0
}
