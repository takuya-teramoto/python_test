{
 "cells": [
  {
   "cell_type": "markdown",
   "metadata": {},
   "source": [
    "# Chapter 03-04\n",
    "## if文の応用"
   ]
  },
  {
   "cell_type": "markdown",
   "metadata": {},
   "source": [
    "### 比較演算子とTrue, False"
   ]
  },
  {
   "cell_type": "code",
   "execution_count": null,
   "metadata": {
    "collapsed": false
   },
   "outputs": [],
   "source": [
    "# 比較式では，結果によって，True(真)，False(偽)が返ってきます\n",
    "\n",
    "1+1 == 2          # 計算式と数値の比較1"
   ]
  },
  {
   "cell_type": "code",
   "execution_count": null,
   "metadata": {
    "collapsed": false
   },
   "outputs": [],
   "source": [
    "5**(4-4)+9 == 10  # 計算式と数値の比較2"
   ]
  },
  {
   "cell_type": "code",
   "execution_count": null,
   "metadata": {
    "collapsed": false
   },
   "outputs": [],
   "source": [
    "5 > 2             # 数値の大小の比較"
   ]
  },
  {
   "cell_type": "code",
   "execution_count": null,
   "metadata": {
    "collapsed": false
   },
   "outputs": [],
   "source": [
    "100 == 100.0      # 整数と浮動小数点数の比較"
   ]
  },
  {
   "cell_type": "code",
   "execution_count": null,
   "metadata": {
    "collapsed": false
   },
   "outputs": [],
   "source": [
    "\"かなこ\" != \"かなこぉ↑↑\" # 文字列の比較"
   ]
  },
  {
   "cell_type": "code",
   "execution_count": null,
   "metadata": {
    "collapsed": false
   },
   "outputs": [],
   "source": [
    "[1, 2, 3] == [1, 2, 3]  # リストとリストの比較"
   ]
  },
  {
   "cell_type": "markdown",
   "metadata": {},
   "source": [
    "### 比較に関する覚え書き"
   ]
  },
  {
   "cell_type": "code",
   "execution_count": null,
   "metadata": {
    "collapsed": false
   },
   "outputs": [],
   "source": [
    "# Python(3)では違う型の比較が実行できない\n",
    "\n",
    "1 < \"2\"    # エラーになります"
   ]
  },
  {
   "cell_type": "code",
   "execution_count": null,
   "metadata": {
    "collapsed": false
   },
   "outputs": [],
   "source": [
    "# 文字列を明示的に数値に変換して比較するのがPython流\n",
    "1 < int(\"2\")"
   ]
  },
  {
   "cell_type": "code",
   "execution_count": null,
   "metadata": {
    "collapsed": false
   },
   "outputs": [],
   "source": [
    "# 文字列どうしの比較(大小)\n",
    "\"100\" < \"200\"    # 一見期待通りの結果が返ってきているようだが"
   ]
  },
  {
   "cell_type": "code",
   "execution_count": null,
   "metadata": {
    "collapsed": false
   },
   "outputs": [],
   "source": [
    "\"100\" < \"2\"      # (内部的に)文字列を数値にして比較しているわけではない"
   ]
  },
  {
   "cell_type": "markdown",
   "metadata": {},
   "source": [
    "### 複雑な比較 - 論理演算"
   ]
  },
  {
   "cell_type": "code",
   "execution_count": null,
   "metadata": {
    "collapsed": false
   },
   "outputs": [],
   "source": [
    "# 地球上から水平に打ち出した物体が速度(v)によって\n",
    "# どのような振る舞いをするかを調べる\n",
    "v = 30000                   # 打ち出し速度(Km/h)\n",
    "if v < 28400:              # 第一宇宙速度以下\n",
    "    print(\"地上に落下します\")\n",
    "if v >= 28400 and v < 40300: # 第一宇宙速度以上\n",
    "    print(\"月とお友達です\")\n",
    "if v >= 40300 and v < 60100: # 第二宇宙速度以上\n",
    "    print(\"惑星の仲間入りです\")\n",
    "if v >= 60100:               # 第三宇宙速度以上\n",
    "    print(\"アルファケンタウリを目指せ\")"
   ]
  },
  {
   "cell_type": "code",
   "execution_count": null,
   "metadata": {
    "collapsed": true
   },
   "outputs": [],
   "source": []
  }
 ],
 "metadata": {
  "kernelspec": {
   "display_name": "Python 3",
   "language": "python",
   "name": "python3"
  },
  "language_info": {
   "codemirror_mode": {
    "name": "ipython",
    "version": 3
   },
   "file_extension": ".py",
   "mimetype": "text/x-python",
   "name": "python",
   "nbconvert_exporter": "python",
   "pygments_lexer": "ipython3",
   "version": "3.5.1"
  }
 },
 "nbformat": 4,
 "nbformat_minor": 0
}
