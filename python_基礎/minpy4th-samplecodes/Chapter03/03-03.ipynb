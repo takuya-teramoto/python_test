{
 "cells": [
  {
   "cell_type": "markdown",
   "metadata": {},
   "source": [
    "# Chapter 03-03\n",
    "## タプルを使う"
   ]
  },
  {
   "cell_type": "code",
   "execution_count": null,
   "metadata": {
    "collapsed": true
   },
   "outputs": [],
   "source": [
    "# 英語の月名をタプルで定義\n",
    "\n",
    "month_names = (\"January\", \"February\", \"March\", \"April\",\n",
    "               \"May\", \"June\", \"July\")"
   ]
  },
  {
   "cell_type": "code",
   "execution_count": null,
   "metadata": {
    "collapsed": false
   },
   "outputs": [],
   "source": [
    "# インデックスで要素を取り出す\n",
    "month_names[1]   # 2月の名前を表示する"
   ]
  },
  {
   "cell_type": "code",
   "execution_count": null,
   "metadata": {
    "collapsed": false
   },
   "outputs": [],
   "source": [
    "# タプルは要素の変更ができないため，以下のコードはエラーになる\n",
    "month_names[0] = \"睦月\""
   ]
  },
  {
   "cell_type": "code",
   "execution_count": null,
   "metadata": {
    "collapsed": false
   },
   "outputs": [],
   "source": [
    "# タプルの連結\n",
    "month_names = month_names+(\"August\", \"September\", \"October\", \n",
    "                           \"November\", \"December\")\n",
    "month_names[11]   # 12月の英語名を表示"
   ]
  },
  {
   "cell_type": "markdown",
   "metadata": {},
   "source": [
    "### タプルの利点"
   ]
  },
  {
   "cell_type": "code",
   "execution_count": null,
   "metadata": {
    "collapsed": true
   },
   "outputs": [],
   "source": [
    "# 県庁所在地と緯度/経度をディクショナリに登録\n",
    "# タプルの緯度/経度をキーにする\n",
    "pref_capitals = {(43.06417, 141.34694):\"北海道(札幌)\",\n",
    "                (40.82444, 140.74):\"青森県(青森市)\",\n",
    "                (39.70361, 141.1525):\"岩手県(盛岡市)\"}"
   ]
  },
  {
   "cell_type": "code",
   "execution_count": null,
   "metadata": {
    "collapsed": false
   },
   "outputs": [],
   "source": [
    "# 緯度/経度を与えて該当する県庁所在地を調べる\n",
    "loc = (39.70361, 141.1525)    # 調べたい地点の緯度，経度\n",
    "for key in pref_capitals:     # キーでループ\n",
    "    if loc == key:\n",
    "        # 調べたい地点と辞書のキーが同じだった\n",
    "        print(pref_capitals[key])\n",
    "        break                 # ループを抜ける"
   ]
  },
  {
   "cell_type": "code",
   "execution_count": null,
   "metadata": {
    "collapsed": false
   },
   "outputs": [],
   "source": [
    "# 緯度/経度を与えて最寄りの県庁所在地を調べる\n",
    "loc = (41.768793, 140.72881)  # 調べたい地点の緯度，経度\n",
    "nearest_cap = ''              # 最寄りの県庁所在地名を保存する変数\n",
    "nearest_dist = 10000          # 最寄りの地点までの距離を保存する変数\n",
    "for key in pref_capitals:     # キーでループ\n",
    "    # 緯度経度の差を二乗して距離を計算\n",
    "    dist = (loc[0]-key[0])**2+(loc[1]-key[1])**2\n",
    "    if nearest_dist > dist:\n",
    "        # より近い地点が見つかったので，変数を入れ替え\n",
    "        nearest_dist = dist\n",
    "        nearest_cap = pref_capitals[key]\n",
    "\n",
    "print(nearest_cap)"
   ]
  },
  {
   "cell_type": "code",
   "execution_count": null,
   "metadata": {
    "collapsed": true
   },
   "outputs": [],
   "source": []
  }
 ],
 "metadata": {
  "kernelspec": {
   "display_name": "Python 3",
   "language": "python",
   "name": "python3"
  },
  "language_info": {
   "codemirror_mode": {
    "name": "ipython",
    "version": 3
   },
   "file_extension": ".py",
   "mimetype": "text/x-python",
   "name": "python",
   "nbconvert_exporter": "python",
   "pygments_lexer": "ipython3",
   "version": "3.5.1"
  }
 },
 "nbformat": 4,
 "nbformat_minor": 0
}
