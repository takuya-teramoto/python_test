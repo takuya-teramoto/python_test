{
 "cells": [
  {
   "cell_type": "markdown",
   "metadata": {},
   "source": [
    "# Chapter 03-06\n",
    "## 関数の応用"
   ]
  },
  {
   "cell_type": "code",
   "execution_count": null,
   "metadata": {
    "collapsed": false
   },
   "outputs": [],
   "source": [
    "# 関数の呼び出し，引数，戻り値の復習\n",
    "int(\"101010\", 2)       # 二進数相当の文字列を数値に変換"
   ]
  },
  {
   "cell_type": "code",
   "execution_count": null,
   "metadata": {
    "collapsed": false
   },
   "outputs": [],
   "source": [
    "# 第二引数を与えないと，暗黙に10が渡される\n",
    "int(\"101010\")"
   ]
  },
  {
   "cell_type": "markdown",
   "metadata": {},
   "source": [
    "### 関数にデフォルト引数を定義する"
   ]
  },
  {
   "cell_type": "code",
   "execution_count": null,
   "metadata": {
    "collapsed": true
   },
   "outputs": [],
   "source": [
    "def fizzbuzz(count=100, fizzmod=3, buzzmod=5):\n",
    "    \"\"\"\n",
    "    FizzBuzz問題を解く関数\n",
    "    繰り返し数，Fizz,Buzzを表示するタイミングを指定する\n",
    "    (これがdocstring/ドックストリングです)\n",
    "    \"\"\"\n",
    "    for cnt in range(1, count+1):             # count回繰り返し\n",
    "        if cnt%fizzmod == 0 and cnt%buzzmod == 0:\n",
    "            # fizzmodでもbuzzmod でも割り切れる\n",
    "            print(\"FizzBuzz\")\n",
    "        elif cnt%fizzmod == 0:\n",
    "            # fizzmodで割り切れる\n",
    "            print(\"Fizz\")\n",
    "        elif cnt%buzzmod == 0:\n",
    "            # buzzmodで割り切れる\n",
    "            print(\"Buzz\")\n",
    "        else:\n",
    "            # 数値を表示する\n",
    "            print(cnt)"
   ]
  },
  {
   "cell_type": "code",
   "execution_count": null,
   "metadata": {
    "collapsed": false
   },
   "outputs": [],
   "source": [
    "# 関数を呼び出してみる\n",
    "fizzbuzz(50, 2, 7)"
   ]
  },
  {
   "cell_type": "markdown",
   "metadata": {},
   "source": [
    "### 引数のキーワード指定"
   ]
  },
  {
   "cell_type": "code",
   "execution_count": null,
   "metadata": {
    "collapsed": false
   },
   "outputs": [],
   "source": [
    "# キーワードを指定して引数の順番を入れ替えて見る\n",
    "int(base=2, x=\"1010\")  # int(\"1010\", 2)と同じ"
   ]
  },
  {
   "cell_type": "markdown",
   "metadata": {},
   "source": [
    "### 関数とローカル変数"
   ]
  },
  {
   "cell_type": "code",
   "execution_count": null,
   "metadata": {
    "collapsed": false
   },
   "outputs": [],
   "source": [
    "# ローカル変数の挙動を確認\n",
    "local_var = 1\n",
    "\n",
    "def test_func(an_arg):\n",
    "    local_var = an_arg\n",
    "    print(\"test_func()の中 =\", local_var)\n",
    "\n",
    "test_func(200)\n",
    "print(\"test_func()の外 =\", local_var)"
   ]
  },
  {
   "cell_type": "code",
   "execution_count": null,
   "metadata": {
    "collapsed": true
   },
   "outputs": [],
   "source": []
  }
 ],
 "metadata": {
  "kernelspec": {
   "display_name": "Python 3",
   "language": "python",
   "name": "python3"
  },
  "language_info": {
   "codemirror_mode": {
    "name": "ipython",
    "version": 3
   },
   "file_extension": ".py",
   "mimetype": "text/x-python",
   "name": "python",
   "nbconvert_exporter": "python",
   "pygments_lexer": "ipython3",
   "version": "3.5.1"
  }
 },
 "nbformat": 4,
 "nbformat_minor": 0
}
