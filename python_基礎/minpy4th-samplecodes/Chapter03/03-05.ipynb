{
 "cells": [
  {
   "cell_type": "markdown",
   "metadata": {},
   "source": [
    "# Chapter 03-05\n",
    "## ループの応用"
   ]
  },
  {
   "cell_type": "markdown",
   "metadata": {},
   "source": [
    "### while文でループを作る"
   ]
  },
  {
   "cell_type": "code",
   "execution_count": null,
   "metadata": {
    "collapsed": false
   },
   "outputs": [],
   "source": [
    "# whileを使ってfizzbuzz問題を解く\n",
    "cnt = 1         # ループカウンタを初期化\n",
    "while cnt <= 100:         # 1から100まで繰り返し\n",
    "    if cnt%3 == 0 and cnt%5 == 0:\n",
    "        print(\"FizzBuzz\") # 3で割り切れ，かつ5でも割り切れる\n",
    "    elif cnt%3 == 0:\n",
    "        print(\"Fizz\")     # 3で割り切れる\n",
    "    elif cnt%5 == 0:\n",
    "        print(\"Buzz\")     # 5で割り切れる\n",
    "    else:\n",
    "        print(cnt)        # 数値を表示する\n",
    "    cnt = cnt+1           # カウンタを1増やす"
   ]
  },
  {
   "cell_type": "markdown",
   "metadata": {},
   "source": [
    "### break文とcontinue文を使ったループの制御"
   ]
  },
  {
   "cell_type": "code",
   "execution_count": null,
   "metadata": {
    "collapsed": false
   },
   "outputs": [],
   "source": [
    "# じゃんけんプログラム\n",
    "from random import randint              # 乱数を作る関数を読み込む\n",
    "hands = {0:\"グー\", 1:\"チョキ\", 2:\"パー\"}  # じゃんけんの手\n",
    "# 勝ち負けのルール\n",
    "rules = {(0, 0):\"あいこ\", (0, 1):\"勝ち\",   (0, 2):\"負け\",   \n",
    "         (1, 0):\"負け\",   (1, 1):\"あいこ\", (1, 2):\"勝ち\",\n",
    "         (2, 0):\"勝ち\",   (2, 1):\"負け\",   (2, 2):\"あいこ\"}\n",
    "\n",
    "while True:\n",
    "    # じゃんけんのループ\n",
    "    pc_hand = randint(0, 2)             # 乱数で手を決める\n",
    "    user_hand_str = input(\"0:グー 1:チョキ 2:パー 3:やめる\")\n",
    "    if user_hand_str == \"3\":\n",
    "        # 終了の数値が入力されたので，ループを抜ける\n",
    "        break\n",
    "    if user_hand_str not in (\"0\", \"1\", \"2\"):\n",
    "        # 不正な入力の場合，ループの先頭に戻る\n",
    "        continue\n",
    "    user_hand = int(user_hand_str)     # ユーザの手を数値に変換\n",
    "    # 手を表示する\n",
    "    print(\"あなた\"+hands[user_hand]+\"，コンピュータ:\"+hands[pc_hand])\n",
    "    # 勝ち負けを表示する\n",
    "    print(rules[(user_hand, pc_hand)])"
   ]
  },
  {
   "cell_type": "markdown",
   "metadata": {},
   "source": [
    "### ループのelse"
   ]
  },
  {
   "cell_type": "code",
   "execution_count": null,
   "metadata": {
    "collapsed": false
   },
   "outputs": [],
   "source": [
    "# 素数を調べるプログラム\n",
    "# elseを使って素数のケースでも結果を表示する\n",
    "a_num = 59            # 素数かどうかを調べる数\n",
    "for num in range(2, a_num):  # 2からa_num-1まで繰り返す\n",
    "    if a_num % num == 0:     # a_numをnumで割り切れるか\n",
    "        print(a_num, \"は素数ではありません\")\n",
    "        break\n",
    "else:\n",
    "    # break文を一度も通らないでループが終了した\n",
    "    print(a_num, \"は素数です\")"
   ]
  },
  {
   "cell_type": "code",
   "execution_count": null,
   "metadata": {
    "collapsed": true
   },
   "outputs": [],
   "source": []
  }
 ],
 "metadata": {
  "kernelspec": {
   "display_name": "Python 3",
   "language": "python",
   "name": "python3"
  },
  "language_info": {
   "codemirror_mode": {
    "name": "ipython",
    "version": 3
   },
   "file_extension": ".py",
   "mimetype": "text/x-python",
   "name": "python",
   "nbconvert_exporter": "python",
   "pygments_lexer": "ipython3",
   "version": "3.5.1"
  }
 },
 "nbformat": 4,
 "nbformat_minor": 0
}
