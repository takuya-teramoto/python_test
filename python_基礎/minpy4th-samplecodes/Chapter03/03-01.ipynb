{
 "cells": [
  {
   "cell_type": "markdown",
   "metadata": {},
   "source": [
    "# Chapter 03-01\n",
    "## ディクショナリ(辞書)を使う"
   ]
  },
  {
   "cell_type": "markdown",
   "metadata": {},
   "source": [
    "### ディクショナリとは"
   ]
  },
  {
   "cell_type": "code",
   "execution_count": null,
   "metadata": {
    "collapsed": false
   },
   "outputs": [],
   "source": [
    "# ニックネーム，出身地，キャッチフレーズをリストに登録\n",
    "purple = [\"れにちゃん\", \"神奈川県\", \"感電少女\"]\n",
    "\n",
    "# インデックスを使えば要素を取り出せるが\n",
    "# インデックスを覚えておく必要があり少し面倒\n",
    "purple[1]"
   ]
  },
  {
   "cell_type": "code",
   "execution_count": null,
   "metadata": {
    "collapsed": true
   },
   "outputs": [],
   "source": [
    "# 同じ内容をディクショナリに登録\n",
    "purple = {\"ニックネーム\": \"れにちゃん\",\n",
    "          \"出身地\": \"神奈川県\",\n",
    "          \"キャッチフレーズ\": \"感電少女\"}"
   ]
  },
  {
   "cell_type": "markdown",
   "metadata": {},
   "source": [
    "### キーを使って要素を取り出す"
   ]
  },
  {
   "cell_type": "code",
   "execution_count": null,
   "metadata": {
    "collapsed": false
   },
   "outputs": [],
   "source": [
    "# ディクショナリから出身地を取り出す\n",
    "print(purple[\"出身地\"])"
   ]
  },
  {
   "cell_type": "code",
   "execution_count": null,
   "metadata": {
    "collapsed": false
   },
   "outputs": [],
   "source": [
    "# ディクショナリの内容を表示すると\n",
    "# 並び順が定義したときと変わっている\n",
    "# (ただしPython 3.5まで，3.6からは並び順が保存される)\n",
    "purple"
   ]
  },
  {
   "cell_type": "markdown",
   "metadata": {},
   "source": [
    "### キーを使って要素を入れ替える"
   ]
  },
  {
   "cell_type": "code",
   "execution_count": null,
   "metadata": {
    "collapsed": false
   },
   "outputs": [],
   "source": [
    "# キーを使って要素を入れ替え\n",
    "purple[\"キャッチフレーズ\"] = \"鋼少女\"\n",
    "purple            # ディクショナリを表示"
   ]
  },
  {
   "cell_type": "markdown",
   "metadata": {},
   "source": [
    "### 新しいキーと値を追加する"
   ]
  },
  {
   "cell_type": "code",
   "execution_count": null,
   "metadata": {
    "collapsed": false
   },
   "outputs": [],
   "source": [
    "# キーを使って新しい要素を追加\n",
    "purple[\"生年月日\"] = \"1993年6月21日\"\n",
    "purple            # ディクショナリを表示"
   ]
  },
  {
   "cell_type": "markdown",
   "metadata": {},
   "source": [
    "### キーを使って要素を削除する"
   ]
  },
  {
   "cell_type": "code",
   "execution_count": null,
   "metadata": {
    "collapsed": false
   },
   "outputs": [],
   "source": [
    "# キーを添えて要素を削除\n",
    "del purple[\"ニックネーム\"]\n",
    "purple            # ディクショナリを表示"
   ]
  },
  {
   "cell_type": "code",
   "execution_count": null,
   "metadata": {
    "collapsed": false
   },
   "outputs": [],
   "source": [
    "# 存在しない(削除した)キーを参照しようとするとエラーになる\n",
    "purple[\"ニックネーム\"]"
   ]
  },
  {
   "cell_type": "markdown",
   "metadata": {},
   "source": [
    "### キーの存在確認"
   ]
  },
  {
   "cell_type": "code",
   "execution_count": null,
   "metadata": {
    "collapsed": true
   },
   "outputs": [],
   "source": [
    "# inを使ったキーの存在確認のサンプル\n",
    "def convert_number(num):\n",
    "    # アラビア数字をローマ数字に変換するプログラム\n",
    "    # アラビア数字とローマ数字の対応表をディクショナリに定義\n",
    "    roman_nums = {1:\"I\", 2:\"II\", 3:\"III\", 4:\"IV\", 5:\"V\",\n",
    "                  6:\"VI\", 7:\"VII\", 8:\"VIII\", 9:\"IX\"}\n",
    "    if num in roman_nums:\n",
    "        # ディクショナリのキーとして引数の整数が存在していたら\n",
    "        # キーに対応する値を戻り値にする\n",
    "        return roman_nums[num]\n",
    "    else:\n",
    "        return \"[変換できません]\""
   ]
  },
  {
   "cell_type": "code",
   "execution_count": null,
   "metadata": {
    "collapsed": false
   },
   "outputs": [],
   "source": [
    "convert_number(3)   # 関数を呼び出してみる"
   ]
  },
  {
   "cell_type": "markdown",
   "metadata": {},
   "source": [
    "### キーを使ったループ"
   ]
  },
  {
   "cell_type": "code",
   "execution_count": null,
   "metadata": {
    "collapsed": false
   },
   "outputs": [],
   "source": [
    "# ディクショナリをforに添えて，キーの一覧を取り出す\n",
    "purple = {\"ニックネーム\": \"れにちゃん\",\n",
    "          \"出身地\": \"神奈川県\",\n",
    "          \"キャッチフレーズ\": \"感電少女\",\n",
    "          \"生年月日\": \"1993年6月21日\"}\n",
    "for key in purple:           # キーをすべて取り出す\n",
    "    print(key, purple[key])  # キーと要素を表示"
   ]
  },
  {
   "cell_type": "code",
   "execution_count": null,
   "metadata": {
    "collapsed": true
   },
   "outputs": [],
   "source": []
  }
 ],
 "metadata": {
  "kernelspec": {
   "display_name": "Python 3",
   "language": "python",
   "name": "python3"
  },
  "language_info": {
   "codemirror_mode": {
    "name": "ipython",
    "version": 3
   },
   "file_extension": ".py",
   "mimetype": "text/x-python",
   "name": "python",
   "nbconvert_exporter": "python",
   "pygments_lexer": "ipython3",
   "version": "3.5.1"
  }
 },
 "nbformat": 4,
 "nbformat_minor": 0
}
