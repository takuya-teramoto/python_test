{
 "cells": [
  {
   "cell_type": "markdown",
   "metadata": {},
   "source": [
    "# Chapter 03-02\n",
    "## set(集合)を使う"
   ]
  },
  {
   "cell_type": "markdown",
   "metadata": {},
   "source": [
    "### setを定義する"
   ]
  },
  {
   "cell_type": "code",
   "execution_count": null,
   "metadata": {
    "collapsed": true
   },
   "outputs": [],
   "source": [
    "# setの例\n",
    "dice = {1, 2, 3, 4, 5, 6}\n",
    "coin = {\"表\", \"裏\"}"
   ]
  },
  {
   "cell_type": "markdown",
   "metadata": {},
   "source": [
    "### setの和集合を得る"
   ]
  },
  {
   "cell_type": "code",
   "execution_count": null,
   "metadata": {
    "collapsed": false
   },
   "outputs": [],
   "source": [
    "prime = {2, 3, 5, 7, 13, 17}  # 素数のsetを定義\n",
    "fib = {1, 1, 2, 3, 5, 8, 13}  # フィボナッチ数のsetを定義\n",
    "\n",
    "prime_fib = prime | fib       # 2つの和集合を得る\n",
    "prime_fib                     # 得られた和集合を表示"
   ]
  },
  {
   "cell_type": "markdown",
   "metadata": {},
   "source": [
    "### setの差集合を得る"
   ]
  },
  {
   "cell_type": "code",
   "execution_count": null,
   "metadata": {
    "collapsed": false
   },
   "outputs": [],
   "source": [
    "dice = {1, 2, 3, 4, 5, 6}      # サイコロの目のsetを定義\n",
    "even = {2, 4, 6, 8, 10}        # 偶数のsetを定義\n",
    "\n",
    "odd_dice = dice - even         # サイコロの目と偶数の差集合をとる\n",
    "odd_dice                       # 奇数の目だけを表示する"
   ]
  },
  {
   "cell_type": "markdown",
   "metadata": {},
   "source": [
    "### setの交わりを得る"
   ]
  },
  {
   "cell_type": "code",
   "execution_count": null,
   "metadata": {
    "collapsed": false
   },
   "outputs": [],
   "source": [
    "prefs = {\"北海道\", \"青森\", \"秋田\", \"岩手\"}  # 県名のsetを定義\n",
    "capitals = {\"札幌\", \"青森\", \"秋田\", \"盛岡\"} # 県庁所在地のsetを定義\n",
    "\n",
    "pref_cap = prefs & capitals       # 2つの交わりを得る\n",
    "pref_cap                          # 得られた交わりを表示"
   ]
  },
  {
   "cell_type": "markdown",
   "metadata": {},
   "source": [
    "#### setの対象差を得る"
   ]
  },
  {
   "cell_type": "code",
   "execution_count": null,
   "metadata": {
    "collapsed": false
   },
   "outputs": [],
   "source": [
    "prefs = {\"北海道\", \"青森\", \"秋田\", \"岩手\"}  # 県名のsetを定義\n",
    "capitals = {\"札幌\", \"青森\", \"秋田\", \"盛岡\"} # 県庁所在地のsetを定義\n",
    "\n",
    "pref_cap2 = prefs ^ capitals       # 2つの対象差を得る\n",
    "pref_cap2                          # 得られた対象差を表示"
   ]
  },
  {
   "cell_type": "markdown",
   "metadata": {},
   "source": [
    "### setとリスト"
   ]
  },
  {
   "cell_type": "code",
   "execution_count": null,
   "metadata": {
    "collapsed": false
   },
   "outputs": [],
   "source": [
    "# setを使って文字列リストの重複を除去する\n",
    "# 文字列のリストを定義\n",
    "codon = ['ATG', 'GGC', 'TCC', 'AAG', 'TTC', 'TGG',\n",
    "         'GAC', 'TCC']\n",
    "s_codon = set(codon)   # リストをsetに変換\n",
    "print(len(codon), len(s_codon))    # リストとsetの長さを表示"
   ]
  },
  {
   "cell_type": "markdown",
   "metadata": {},
   "source": [
    "### setと比較"
   ]
  },
  {
   "cell_type": "code",
   "execution_count": null,
   "metadata": {
    "collapsed": false
   },
   "outputs": [],
   "source": [
    "# setで使える比較演算子の例\n",
    "prime = {2, 3, 5, 7, 13, 17}  # 素数のsetを定義\n",
    "fib = {1, 1, 2, 3, 5, 8, 13}  # フィボナッチ数のsetを定義\n",
    "\n",
    "prime_fib = prime & fib       # 2つの交わりを得る\n",
    "if 13 in prime_fib:\n",
    "    print(\"13は素数で，フィボナッチ数でもある\")\n",
    "if {2, 3} <= prime_fib:\n",
    "    print(\"2, 3は素数で，フィボナッチ数でもある\")"
   ]
  },
  {
   "cell_type": "code",
   "execution_count": null,
   "metadata": {
    "collapsed": true
   },
   "outputs": [],
   "source": []
  }
 ],
 "metadata": {
  "kernelspec": {
   "display_name": "Python 3",
   "language": "python",
   "name": "python3"
  },
  "language_info": {
   "codemirror_mode": {
    "name": "ipython",
    "version": 3
   },
   "file_extension": ".py",
   "mimetype": "text/x-python",
   "name": "python",
   "nbconvert_exporter": "python",
   "pygments_lexer": "ipython3",
   "version": "3.5.1"
  }
 },
 "nbformat": 4,
 "nbformat_minor": 0
}
