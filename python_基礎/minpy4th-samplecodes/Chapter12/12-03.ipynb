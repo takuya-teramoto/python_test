{
 "cells": [
  {
   "cell_type": "markdown",
   "metadata": {},
   "source": [
    "# Chapter 12-03\n",
    "## matplotlibを使う"
   ]
  },
  {
   "cell_type": "markdown",
   "metadata": {},
   "source": [
    "### plot()でグラフを描く"
   ]
  },
  {
   "cell_type": "code",
   "execution_count": null,
   "metadata": {
    "collapsed": false
   },
   "outputs": [],
   "source": [
    "%matplotlib inline\n",
    "import numpy as np\n",
    "import matplotlib.pyplot as plt\n",
    "\n",
    "s = np.sin(np.pi*np.arange(0.0, 2.0, 0.01))\n",
    "t = plt.plot(s)    # sinのグラフを描く"
   ]
  },
  {
   "cell_type": "code",
   "execution_count": null,
   "metadata": {
    "collapsed": false
   },
   "outputs": [],
   "source": [
    "# 引数にマークを指定して分布図を書く\n",
    "x = np.random.randn(5000)    # 標準正規分布に従う乱数を生成\n",
    "y = np.random.randn(5000)\n",
    "t = plt.plot(x, y, 'o', alpha=0.1)"
   ]
  },
  {
   "cell_type": "code",
   "execution_count": null,
   "metadata": {
    "collapsed": false
   },
   "outputs": [],
   "source": [
    "# 最小二乗法でデータを近似する直線を求める\n",
    "x = np.array([1.628, 3.363, 5.145, 7.683, 9.855])\n",
    "y = np.array([1.257, 3.672, 5.841, 7.951, 9.775])\n",
    "# 最小二乗法でデータを近似する直線を求める\n",
    "a = np.array([x, np.ones(x.size)])\n",
    "a = a.T\n",
    "m, c = np.linalg.lstsq(a, y)[0]\n",
    "t = plt.plot(x, y, 'o')   # データを描画\n",
    "t = plt.plot(x, (m*x+c))  # 近似直線を描画"
   ]
  },
  {
   "cell_type": "markdown",
   "metadata": {},
   "source": [
    "### plot()の描画をコントロールする"
   ]
  },
  {
   "cell_type": "code",
   "execution_count": null,
   "metadata": {
    "collapsed": false
   },
   "outputs": [],
   "source": [
    "# 線のスタイルをコントロールする\n",
    "s = np.sin(np.pi*np.arange(0.0, 2.0, 0.01))\n",
    "t = plt.plot(s, linestyle='--', linewidth=4)"
   ]
  },
  {
   "cell_type": "markdown",
   "metadata": {},
   "source": [
    "### 文字を入れる - 日本語のフォントを表資する"
   ]
  },
  {
   "cell_type": "code",
   "execution_count": null,
   "metadata": {
    "collapsed": false
   },
   "outputs": [],
   "source": [
    "# システムで利用できるフォントの一覧を表示\n",
    "import matplotlib.font_manager as fm\n",
    "fm.findSystemFonts()"
   ]
  },
  {
   "cell_type": "code",
   "execution_count": null,
   "metadata": {
    "collapsed": true
   },
   "outputs": [],
   "source": []
  }
 ],
 "metadata": {
  "kernelspec": {
   "display_name": "Python 3",
   "language": "python",
   "name": "python3"
  },
  "language_info": {
   "codemirror_mode": {
    "name": "ipython",
    "version": 3
   },
   "file_extension": ".py",
   "mimetype": "text/x-python",
   "name": "python",
   "nbconvert_exporter": "python",
   "pygments_lexer": "ipython3",
   "version": "3.5.1"
  }
 },
 "nbformat": 4,
 "nbformat_minor": 0
}
