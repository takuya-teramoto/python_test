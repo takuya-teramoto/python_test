{
 "cells": [
  {
   "cell_type": "markdown",
   "metadata": {},
   "source": [
    "# Chapter 12-02\n",
    "## NumPyを使う"
   ]
  },
  {
   "cell_type": "markdown",
   "metadata": {},
   "source": [
    "### NumPyのarrayを生成する"
   ]
  },
  {
   "cell_type": "code",
   "execution_count": null,
   "metadata": {
    "collapsed": false
   },
   "outputs": [],
   "source": [
    "import numpy as np         # NumPyをインポート\n",
    "a = np.array([0, 1, 2, 3]) # arrayを作る\n",
    "a                          # arrayを表示"
   ]
  },
  {
   "cell_type": "code",
   "execution_count": null,
   "metadata": {
    "collapsed": false
   },
   "outputs": [],
   "source": [
    "# 二次元のarrayを表示\n",
    "b = np.array([[0, 0, 0], [0, 0, 0], [0, 0, 0]])\n",
    "\n",
    "b"
   ]
  },
  {
   "cell_type": "code",
   "execution_count": null,
   "metadata": {
    "collapsed": false
   },
   "outputs": [],
   "source": [
    "# arrayのアトリビュートを表示\n",
    "print(b.ndim)       # 次元数\n",
    "print(b.shape)      # 各次元の要素数\n",
    "print(b.size)       # サイズ\n",
    "print(b.dtype)      # 型"
   ]
  },
  {
   "cell_type": "code",
   "execution_count": null,
   "metadata": {
    "collapsed": false
   },
   "outputs": [],
   "source": [
    "# reshape()でarrayの形を変える\n",
    "b2 = np.zeros(9).reshape(3, 3)\n",
    "b2"
   ]
  },
  {
   "cell_type": "code",
   "execution_count": null,
   "metadata": {
    "collapsed": false
   },
   "outputs": [],
   "source": [
    "# T(転置行列)を表示\n",
    "# 0,1,2 2,3,4 5,6,7という3x3のarray\n",
    "a = np.arange(9).reshape(3, 3)  \n",
    "a.T                   # 90度回転したarrayを表示"
   ]
  },
  {
   "cell_type": "markdown",
   "metadata": {},
   "source": [
    "### arrayを使った演算"
   ]
  },
  {
   "cell_type": "code",
   "execution_count": null,
   "metadata": {
    "collapsed": false
   },
   "outputs": [],
   "source": [
    "# arrayの各要素に1を足す\n",
    "a = np.arange(1, 10)    # 1から9までの配列を作る\n",
    "a+1                     # 各要素に1を足して表示"
   ]
  },
  {
   "cell_type": "code",
   "execution_count": null,
   "metadata": {
    "collapsed": false
   },
   "outputs": [],
   "source": [
    "# 2つのarrayの各要素を足す\n",
    "a = np.arange(1, 10)\n",
    "b = np.arange(1, 10)    # 1から9までの配列をふたつ作る\n",
    "a+b                     # aの要素とbの要素を足す"
   ]
  },
  {
   "cell_type": "code",
   "execution_count": null,
   "metadata": {
    "collapsed": false
   },
   "outputs": [],
   "source": [
    "# ブロードキャスティング(Broadcasting)\n",
    "a = np.ones(9).reshape(3, 3) # 1だけで構成された3x3のarrayを作る\n",
    "b = np.arange(1, 4)          # 1, 2, 3のarray作る\n",
    "a*b                          # かけ算した結果を表示"
   ]
  },
  {
   "cell_type": "code",
   "execution_count": null,
   "metadata": {
    "collapsed": false
   },
   "outputs": [],
   "source": [
    "# ブロードキャスティングを使って3x3のarrayを作る\n",
    "np.zeros((3, 1))*np.zeros((1, 3))"
   ]
  },
  {
   "cell_type": "code",
   "execution_count": null,
   "metadata": {
    "collapsed": false
   },
   "outputs": [],
   "source": [
    "# 関数を使った演算\n",
    "# 0,1,2 2,3,4 5,6,7という3x3のarray\n",
    "a = np.arange(9).reshape(3, 3)\n",
    "np.sum(a)        # 合計を計算"
   ]
  },
  {
   "cell_type": "code",
   "execution_count": null,
   "metadata": {
    "collapsed": false
   },
   "outputs": [],
   "source": [
    "# 引数axisを与えた演算\n",
    "# [[0 1 2]\n",
    "#  [3 4 5]\n",
    "#  [6 7 8]]\n",
    "# 上記配列の行ごとに合計を計算\n",
    "np.sum(a, axis=0)"
   ]
  },
  {
   "cell_type": "markdown",
   "metadata": {},
   "source": [
    "### 要素へのアクセス"
   ]
  },
  {
   "cell_type": "code",
   "execution_count": null,
   "metadata": {
    "collapsed": false
   },
   "outputs": [],
   "source": [
    "a = np.arange(9).reshape(3, 3) # 0から8まで，3x3のarrayを作る\n",
    "a[1, 2]                        # 1, 2の要素を表示"
   ]
  },
  {
   "cell_type": "code",
   "execution_count": null,
   "metadata": {
    "collapsed": false
   },
   "outputs": [],
   "source": [
    "# スライスを使って要素にアクセスする\n",
    "a[1:, 1:3]             # 右下の2×2の配列を取り出す"
   ]
  },
  {
   "cell_type": "code",
   "execution_count": null,
   "metadata": {
    "collapsed": false
   },
   "outputs": [],
   "source": [
    "# インデックスにシーケンスを渡して複数の要素にアクセスする\n",
    "d = np.arange(1, 10)        # 1から9までのarrayを作る\n",
    "d[[1, 3, 5, 7]]             # 偶数だけ取り出す"
   ]
  },
  {
   "cell_type": "markdown",
   "metadata": {},
   "source": [
    "### arrayの連結"
   ]
  },
  {
   "cell_type": "code",
   "execution_count": null,
   "metadata": {
    "collapsed": false
   },
   "outputs": [],
   "source": [
    "# 横方向への連結\n",
    "a = np.arange(4).reshape(2, 2)      #2x2,0から3までのarray\n",
    "b = np.arange(5, 9).reshape(2, 2)   #2x2,5から8までのarray\n",
    "np.hstack((a, b))"
   ]
  },
  {
   "cell_type": "code",
   "execution_count": null,
   "metadata": {
    "collapsed": false
   },
   "outputs": [],
   "source": [
    "# 縦方向への連結\n",
    "a = np.arange(4).reshape(2, 2)      #2x2,0から3までのarray\n",
    "b = np.arange(5, 9).reshape(2, 2)   #2x2,5から8までのarray\n",
    "np.vstack((a, b))"
   ]
  },
  {
   "cell_type": "markdown",
   "metadata": {},
   "source": [
    "### arrayのコピー"
   ]
  },
  {
   "cell_type": "code",
   "execution_count": null,
   "metadata": {
    "collapsed": false
   },
   "outputs": [],
   "source": [
    "# 組み込み型のリストと同様に，arrayの代入はコピーになる\n",
    "# (変数が同一arrayへのリファレンスを持つ)\n",
    "a = np.zeros(4)     # 4つの0でarrayを作る\n",
    "b = a               # bに代入\n",
    "b += 1              # 各要素に1を足す\n",
    "a                   # aの内容を表示"
   ]
  },
  {
   "cell_type": "code",
   "execution_count": null,
   "metadata": {
    "collapsed": false
   },
   "outputs": [],
   "source": [
    "# あるarrayから別のarrayを生成したいときは，明示的にコピーする\n",
    "a = np.zeros(4)     # 4つの0でarrayを作る\n",
    "b = a.copy()        # bに代入\n",
    "b += 1              # 各要素に1を足す\n",
    "print(a)            # aの内容を表示"
   ]
  },
  {
   "cell_type": "code",
   "execution_count": null,
   "metadata": {
    "collapsed": true
   },
   "outputs": [],
   "source": []
  }
 ],
 "metadata": {
  "kernelspec": {
   "display_name": "Python 3",
   "language": "python",
   "name": "python3"
  },
  "language_info": {
   "codemirror_mode": {
    "name": "ipython",
    "version": 3
   },
   "file_extension": ".py",
   "mimetype": "text/x-python",
   "name": "python",
   "nbconvert_exporter": "python",
   "pygments_lexer": "ipython3",
   "version": "3.5.1"
  }
 },
 "nbformat": 4,
 "nbformat_minor": 0
}
