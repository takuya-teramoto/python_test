{
 "cells": [
  {
   "cell_type": "markdown",
   "metadata": {},
   "source": [
    "# Chapter 12-01\n",
    "##   NumPyとmatplotlib"
   ]
  },
  {
   "cell_type": "markdown",
   "metadata": {},
   "source": [
    "### NumPyを使う"
   ]
  },
  {
   "cell_type": "code",
   "execution_count": null,
   "metadata": {
    "collapsed": false
   },
   "outputs": [],
   "source": [
    "# 反応テストの実験データを読み込む\n",
    "import numpy as np       # numpyをインポート\n",
    "# ファイルからデータを読み込む\n",
    "reactions_in_ms = np.loadtxt('reactions.txt')"
   ]
  },
  {
   "cell_type": "code",
   "execution_count": null,
   "metadata": {
    "collapsed": false
   },
   "outputs": [],
   "source": [
    "# データの概要を表示する\n",
    "print(reactions_in_ms.size)      # 要素数を表示\n",
    "print(reactions_in_ms[:20])       # 先頭から20個の要素を表示"
   ]
  },
  {
   "cell_type": "code",
   "execution_count": null,
   "metadata": {
    "collapsed": false
   },
   "outputs": [],
   "source": [
    "# ミリ秒を秒に直す\n",
    "reactions_in_sec = reactions_in_ms/1000\n",
    "print(reactions_in_sec[:20])            # 先頭から20個の要素を表示"
   ]
  },
  {
   "cell_type": "code",
   "execution_count": null,
   "metadata": {
    "collapsed": false
   },
   "outputs": [],
   "source": [
    "# 基本統計量を表示してデータの概略を確認する\n",
    "print(\"平均値 :\", np.mean(reactions_in_sec))\n",
    "print(\"中央値 :\", np.median(reactions_in_sec))\n",
    "print(\"標準偏差 :\", np.std(reactions_in_sec))\n",
    "print(\"最小値 :\", np.min(reactions_in_sec))\n",
    "print(\"最大値 :\", np.max(reactions_in_sec))"
   ]
  },
  {
   "cell_type": "code",
   "execution_count": null,
   "metadata": {
    "collapsed": false
   },
   "outputs": [],
   "source": [
    "# pandasを使ってデータの概要を表示する\n",
    "import pandas as pd\n",
    "reactions_df = pd.DataFrame(reactions_in_sec)\n",
    "reactions_df.head()       # データの概要を表示"
   ]
  },
  {
   "cell_type": "code",
   "execution_count": null,
   "metadata": {
    "collapsed": false
   },
   "outputs": [],
   "source": [
    "reactions_df.describe()   # データの平均，標準偏差などを表示"
   ]
  },
  {
   "cell_type": "markdown",
   "metadata": {},
   "source": [
    "### matplotlibを使う"
   ]
  },
  {
   "cell_type": "code",
   "execution_count": null,
   "metadata": {
    "collapsed": false
   },
   "outputs": [],
   "source": [
    "%matplotlib inline\n",
    "import matplotlib.pyplot as plt # matplotlibをインポートする\n",
    "h = plt.hist(reactions_in_sec)  # ヒストグラムを描く"
   ]
  },
  {
   "cell_type": "code",
   "execution_count": null,
   "metadata": {
    "collapsed": true
   },
   "outputs": [],
   "source": []
  }
 ],
 "metadata": {
  "kernelspec": {
   "display_name": "Python 3",
   "language": "python",
   "name": "python3"
  },
  "language_info": {
   "codemirror_mode": {
    "name": "ipython",
    "version": 3
   },
   "file_extension": ".py",
   "mimetype": "text/x-python",
   "name": "python",
   "nbconvert_exporter": "python",
   "pygments_lexer": "ipython3",
   "version": "3.5.1"
  }
 },
 "nbformat": 4,
 "nbformat_minor": 0
}
