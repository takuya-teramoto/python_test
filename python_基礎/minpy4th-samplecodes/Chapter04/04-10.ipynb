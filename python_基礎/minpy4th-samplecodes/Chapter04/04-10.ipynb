{
 "cells": [
  {
   "cell_type": "markdown",
   "metadata": {},
   "source": [
    "# Chapter04-10\n",
    "## Pythonの文字列と日本語"
   ]
  },
  {
   "cell_type": "markdown",
   "metadata": {},
   "source": [
    "### 文字コードに関する基礎知識"
   ]
  },
  {
   "cell_type": "code",
   "execution_count": null,
   "metadata": {
    "collapsed": false
   },
   "outputs": [],
   "source": [
    "# コンピュータの内部では，文字が対応する数値に置き換えられる\n",
    "s = \"1AZa\"\n",
    "for c in s:\n",
    "    print(c, ord(c))  # 文字に対応する数値を表示する"
   ]
  },
  {
   "cell_type": "code",
   "execution_count": null,
   "metadata": {
    "collapsed": false
   },
   "outputs": [],
   "source": [
    "# マルチバイト文字(UTF-8)のコードを表示する\n",
    "ms = \"日本語\"\n",
    "for c in ms:\n",
    "    print(c, ord(c), ord(c)//256, ord(c)%256)"
   ]
  },
  {
   "cell_type": "markdown",
   "metadata": {},
   "source": [
    "### バイト(bytes)型"
   ]
  },
  {
   "cell_type": "code",
   "execution_count": null,
   "metadata": {
    "collapsed": false
   },
   "outputs": [],
   "source": [
    "s = \"あいうえお\"       # ひらがなを含む文字列を定義\n",
    "len(s)               # 長さを調べる"
   ]
  },
  {
   "cell_type": "code",
   "execution_count": null,
   "metadata": {
    "collapsed": false
   },
   "outputs": [],
   "source": [
    "bs = s.encode('shift-jis') # 文字列型からバイト型に変換\n",
    "len(bs)              # 長さを調べる"
   ]
  },
  {
   "cell_type": "code",
   "execution_count": null,
   "metadata": {
    "collapsed": false
   },
   "outputs": [],
   "source": [
    "print(bs)            # バイト型をprint()する"
   ]
  },
  {
   "cell_type": "code",
   "execution_count": null,
   "metadata": {
    "collapsed": false
   },
   "outputs": [],
   "source": [
    "s[0]                 # インデックスで一文字目を取り出す"
   ]
  },
  {
   "cell_type": "code",
   "execution_count": null,
   "metadata": {
    "collapsed": false
   },
   "outputs": [],
   "source": [
    "bs[0]                # バイト型の一文字目を取り出す"
   ]
  },
  {
   "cell_type": "markdown",
   "metadata": {},
   "source": [
    "### 文字列をバイト型に変換する"
   ]
  },
  {
   "cell_type": "code",
   "execution_count": null,
   "metadata": {
    "collapsed": false
   },
   "outputs": [],
   "source": [
    "s = \"くっ、殺せ！\"                  # 文字列を定義\n",
    "bs = s.encode(\"euc-jp\", \"strict\") # エンコード(EUC-JP)を指定してエンコード，バイト型に変換\n",
    "print(bs)                         # バイト型の文字列を表示"
   ]
  },
  {
   "cell_type": "markdown",
   "metadata": {},
   "source": [
    "### バイト型を文字列に変換する"
   ]
  },
  {
   "cell_type": "code",
   "execution_count": null,
   "metadata": {
    "collapsed": false
   },
   "outputs": [],
   "source": [
    "# バイト型のリテラルを変数に代入\n",
    "bs = b'\\x82\\xad\\x82\\xc1\\x82\\xad\\x82\\xc1\\x82\\xad\\x82\\xc1'\n",
    "u = bs.decode('shift-jis', 'ignore') # エンコードを指定してデコード，文字列型の変換\n",
    "print(u)                             # 文字列を表示"
   ]
  },
  {
   "cell_type": "code",
   "execution_count": null,
   "metadata": {
    "collapsed": false
   },
   "outputs": [],
   "source": []
  }
 ],
 "metadata": {
  "kernelspec": {
   "display_name": "Python 3",
   "language": "python",
   "name": "python3"
  },
  "language_info": {
   "codemirror_mode": {
    "name": "ipython",
    "version": 3
   },
   "file_extension": ".py",
   "mimetype": "text/x-python",
   "name": "python",
   "nbconvert_exporter": "python",
   "pygments_lexer": "ipython3",
   "version": "3.5.1"
  }
 },
 "nbformat": 4,
 "nbformat_minor": 0
}
