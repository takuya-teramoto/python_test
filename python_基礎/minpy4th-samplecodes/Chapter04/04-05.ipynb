{
 "cells": [
  {
   "cell_type": "markdown",
   "metadata": {},
   "source": [
    "# Chapter 04-05\n",
    "## set型を使いこなす"
   ]
  },
  {
   "cell_type": "markdown",
   "metadata": {},
   "source": [
    "### set型のメソッドを活用する"
   ]
  },
  {
   "cell_type": "code",
   "execution_count": null,
   "metadata": {
    "collapsed": false
   },
   "outputs": [],
   "source": [
    "# set型のメソッドには，2タイプのメソッドがあります\n",
    "# 1つは，操作の結果setのコピーを返し，オブジェクトを変更しない(破壊的操作を行わない)メソッドです\n",
    "\n",
    "prime = set([2, 3, 5, 7, 11])\n",
    "fib = set([0, 1, 2, 3, 5, 8])\n",
    "new_set = prime.union(fib)     # メソッドが返す結果を変数で受け取る\n",
    "new_set                        # 変数を表示"
   ]
  },
  {
   "cell_type": "code",
   "execution_count": null,
   "metadata": {
    "collapsed": false
   },
   "outputs": [],
   "source": [
    "prime                          # メソッドを呼び出した元の変数は変わらない"
   ]
  },
  {
   "cell_type": "code",
   "execution_count": null,
   "metadata": {
    "collapsed": false
   },
   "outputs": [],
   "source": [
    "# もう1つは，オブジェクト自体を変更する(破壊的操作を行う)メソッドです\n",
    "\n",
    "prefs = set(['北海道', '青森県', '秋田県'])  # setを定義\n",
    "prefs.add('岩手県')                        # 要素を追加\n",
    "prefs                                     # 変数を表示"
   ]
  },
  {
   "cell_type": "code",
   "execution_count": null,
   "metadata": {
    "collapsed": true
   },
   "outputs": [],
   "source": []
  }
 ],
 "metadata": {
  "kernelspec": {
   "display_name": "Python 3",
   "language": "python",
   "name": "python3"
  },
  "language_info": {
   "codemirror_mode": {
    "name": "ipython",
    "version": 3
   },
   "file_extension": ".py",
   "mimetype": "text/x-python",
   "name": "python",
   "nbconvert_exporter": "python",
   "pygments_lexer": "ipython3",
   "version": "3.5.1"
  }
 },
 "nbformat": 4,
 "nbformat_minor": 0
}
