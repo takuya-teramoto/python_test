{
 "cells": [
  {
   "cell_type": "markdown",
   "metadata": {},
   "source": [
    "# Chapter 04-03\n",
    "## 文字列型を活用する"
   ]
  },
  {
   "cell_type": "markdown",
   "metadata": {},
   "source": [
    "### 文字列の置換と削除"
   ]
  },
  {
   "cell_type": "code",
   "execution_count": null,
   "metadata": {
    "collapsed": false
   },
   "outputs": [],
   "source": [
    "orig_str = \"いっぱい\"          # 置換前の文字列を定義\n",
    "orig_str.replace(\"い\", \"お\")  # 文字列の「い」を「お」に置換、結果を表示"
   ]
  },
  {
   "cell_type": "code",
   "execution_count": null,
   "metadata": {
    "collapsed": false
   },
   "outputs": [],
   "source": [
    "# ちなみに，replace()メソッドは置換数を指定できる\n",
    "orig_str.replace(\"い\", \"お\", 1)"
   ]
  },
  {
   "cell_type": "code",
   "execution_count": null,
   "metadata": {
    "collapsed": false
   },
   "outputs": [],
   "source": [
    "# カンマ付き文字列の削除と数値への変換\n",
    "str_num = \"1,000,000\"                # カンマの入った整数相当の文字列\n",
    "num = int(str_num.replace(\",\", \"\"))  # カンマを取り除きint()で数値にする\n",
    "num"
   ]
  },
  {
   "cell_type": "code",
   "execution_count": null,
   "metadata": {
    "collapsed": false
   },
   "outputs": [],
   "source": [
    "# オマケ 文字 -> モールス信号への変換\n",
    "\n",
    "m_sos = \"SOS\"                # 文字列を定義\n",
    "# 文字列をモールス信号に置き換える\n",
    "m_sos = m_sos.replace(\"S\", \"...\")\n",
    "m_sos = m_sos.replace(\"O\", \"---\")\n",
    "m_sos"
   ]
  },
  {
   "cell_type": "markdown",
   "metadata": {},
   "source": [
    "### split(),join()メソッド"
   ]
  },
  {
   "cell_type": "code",
   "execution_count": null,
   "metadata": {
    "collapsed": false
   },
   "outputs": [],
   "source": [
    "# splitメソッドの使用例\n",
    "%matplotlib inline\n",
    "import matplotlib.pyplot as plt\n",
    "\n",
    "str_speeds = \"38 42 20 40 39\"       # 戦車のスピード(km/h)\n",
    "str_armor = \"80 50 17 50 51\"        # 戦車の装甲厚(mm)\n",
    "speeds = str_speeds.split(\" \")      # 速度をスペースで分割\n",
    "armors = str_armor.split(\" \")       # 装甲厚をスペースで分割\n",
    "markers = [\"o\", \"v\", \"^\", \"<\", \">\"]\n",
    "\n",
    "for idx in range(len(speeds)):      # リストの長さ分ループ\n",
    "    x = int(speeds[idx])            # 文字列を数値に変換\n",
    "    y = int(armors[idx])\n",
    "    # 散布図を描く\n",
    "    plt.scatter(x, y, marker=markers[idx])    \n",
    "\n",
    "\n",
    "    #IV号戦車(o) LT-38(v) 八九式中戦車(^) III号突撃砲(<) M3中戦車(>)"
   ]
  },
  {
   "cell_type": "code",
   "execution_count": null,
   "metadata": {
    "collapsed": false
   },
   "outputs": [],
   "source": [
    "# split()した文字列をjoin()で連結\n",
    "str_speeds = \"38 42 20 40 39\"  # 空白で区切られた数値\n",
    "speeds = str_speeds.split()    # 空白で分割\n",
    "csep_speeds = \",\".join(speeds) # コンマで連結\n",
    "print(csep_speeds)             # 結果を表示"
   ]
  },
  {
   "cell_type": "code",
   "execution_count": null,
   "metadata": {
    "collapsed": false
   },
   "outputs": [],
   "source": [
    "# replace()メソッドを使うと，余分な空白も置換される\n",
    "str_speeds2 = \" 38  42 20 40 39 \"    # 余分な空白が入った文字列\n",
    "print(str_speeds2.replace(\" \", \",\")) # replace()を使った結果を表示"
   ]
  },
  {
   "cell_type": "code",
   "execution_count": null,
   "metadata": {
    "collapsed": false
   },
   "outputs": [],
   "source": [
    "# split()とjoin()を組み合わせれば，余分な空白が除去される\n",
    "str_speeds2 = \" 38  42 20 40 39 \"    # 余分な空白が入った文字列\n",
    "speeds2 = str_speeds2.split()\n",
    "csep_speeds2 = \",\".join(speeds2)     # split(), join()を使って置換\n",
    "print(csep_speeds2)                  # 結果を表示"
   ]
  },
  {
   "cell_type": "markdown",
   "metadata": {},
   "source": [
    "### エスケープシーケンス"
   ]
  },
  {
   "cell_type": "code",
   "execution_count": null,
   "metadata": {
    "collapsed": false
   },
   "outputs": [],
   "source": [
    "def func():                     # 関数の定義\n",
    "    # 改行を含む文字列を変数にするとインデントがずれる\n",
    "    words = \"\"\"ゆく河の流れは絶えずして\n",
    "しかももとの水にあらず\"\"\"\n",
    "    print(words)\n",
    "\n",
    "func()"
   ]
  },
  {
   "cell_type": "code",
   "execution_count": null,
   "metadata": {
    "collapsed": false
   },
   "outputs": [],
   "source": [
    "# エスケープシーケンスを使って改行文字を入れるとすっきりする\n",
    "def func():\n",
    "    words = \"ゆく河の流れは絶えずして\\nしかももとの水にあらず\"\n",
    "    print(words)\n",
    "\n",
    "func()"
   ]
  },
  {
   "cell_type": "code",
   "execution_count": null,
   "metadata": {
    "collapsed": false
   },
   "outputs": [],
   "source": [
    "# なお，インデントを崩さずに長い文字列を定義するには\n",
    "# 以下のような方法もあります\n",
    "#\n",
    "# ※ただし，改行のエスケープシーケンスは明示する必要があることに注意\n",
    "\n",
    "def func():\n",
    "    words = (\"ゆく河の流れは絶えずして\\n\"\n",
    "             \"しかももとの水にあらず\")\n",
    "    print(words)\n",
    "\n",
    "func()"
   ]
  },
  {
   "cell_type": "markdown",
   "metadata": {},
   "source": [
    "### raw文字列"
   ]
  },
  {
   "cell_type": "code",
   "execution_count": null,
   "metadata": {
    "collapsed": false
   },
   "outputs": [],
   "source": [
    "# raw文字列を使うとエスケープシーケンスも文字列として扱われる\n",
    "# Windowsのファイルへのパスを扱うときなどに便利\n",
    "raw = r\"C:\\path\\to\\file\"\n",
    "raw"
   ]
  },
  {
   "cell_type": "code",
   "execution_count": null,
   "metadata": {
    "collapsed": false
   },
   "outputs": [],
   "source": [
    "# raw文字列でない場合と結果を比較\n",
    "non_raw = \"C:\\path\\to\\file\"\n",
    "non_raw"
   ]
  },
  {
   "cell_type": "markdown",
   "metadata": {},
   "source": [
    "### 文字列メソッドを活用する"
   ]
  },
  {
   "cell_type": "code",
   "execution_count": null,
   "metadata": {
    "collapsed": false
   },
   "outputs": [],
   "source": [
    "# endswith(), startswith()メソッド\n",
    "# 文字列の末尾，または先頭に特定の文字列があるかどうかを調べるために使います\n",
    "# メソッド名に「三単現のS」がついていることに注意\n",
    "# スライスやインデクシングを駆使して同様の処理が可能ですが\n",
    "# メソッドを使った方が簡単です\n",
    "\n",
    "fn = \"funny_picture.jpg\"\n",
    "if fn.endswith(\".jpg\"):\n",
    "    print(\"JPEG画像のようです\")\n",
    "\n",
    "# c.f.\n",
    "# if fn[-4:] == \".jpg\":\n",
    "#     print(\"JPEG画像のようです\")"
   ]
  },
  {
   "cell_type": "code",
   "execution_count": null,
   "metadata": {
    "collapsed": false
   },
   "outputs": [],
   "source": [
    "# strip()メソッド\n",
    "# 主に文字列の前後にある空白を除去するために使います\n",
    "\n",
    "orig_str = \" HAM SPAM \"\n",
    "stripped_str = orig_str.strip()\n",
    "stripped_str"
   ]
  },
  {
   "cell_type": "code",
   "execution_count": null,
   "metadata": {
    "collapsed": false
   },
   "outputs": [],
   "source": [
    "# upper(), lower()メソッドを組み合わせると，英字の大/小文字を無視して\n",
    "# 文字列の比較ができます\n",
    "\n",
    "upper_str = \"I like SPAM and egg.\"\n",
    "if \"spam\" in upper_str.lower():\n",
    "    print(\"本当にSPAMが好きなんですね\")"
   ]
  },
  {
   "cell_type": "markdown",
   "metadata": {},
   "source": [
    "## 文字列のフォーマット"
   ]
  },
  {
   "cell_type": "code",
   "execution_count": null,
   "metadata": {
    "collapsed": false
   },
   "outputs": [],
   "source": [
    "# 要素の埋め込み\n",
    "\"{} loves Python !\".format('Guido')"
   ]
  },
  {
   "cell_type": "code",
   "execution_count": null,
   "metadata": {
    "collapsed": false
   },
   "outputs": [],
   "source": [
    "# 複数要素の埋め込み\n",
    "linkstr = '<a href=\"{}\">{}</a>'\n",
    "for i in ['http://python.org',\n",
    "          'http://pypy.org',\n",
    "          'http://http://cython.org/']:\n",
    "    print(linkstr.format(i, i.replace('http://', '')))"
   ]
  },
  {
   "cell_type": "code",
   "execution_count": null,
   "metadata": {
    "collapsed": false
   },
   "outputs": [],
   "source": [
    "# 引数の順番を指定\n",
    "\"{0} {1} {0}\".format('Spam', 'Ham')"
   ]
  },
  {
   "cell_type": "code",
   "execution_count": null,
   "metadata": {
    "collapsed": false
   },
   "outputs": [],
   "source": [
    "# キーで位置を指定\n",
    "\"{food1} {food2} {food1}\".format(food1=\"Spam\",\n",
    "                                 food2=\"Ham\")"
   ]
  },
  {
   "cell_type": "code",
   "execution_count": null,
   "metadata": {
    "collapsed": false
   },
   "outputs": [],
   "source": [
    "# ディクショナリによる置換\n",
    "d = {'name': 'Guido', 'birthyear': 1964}\n",
    "\"{0[birthyear]} is {0[name]}'s birthyear\".format(d)"
   ]
  },
  {
   "cell_type": "code",
   "execution_count": null,
   "metadata": {
    "collapsed": false
   },
   "outputs": [],
   "source": [
    "# アトリビュートを指定して置換\n",
    "import sys\n",
    "# sys.versionを表示\n",
    "\"Python version: {0.version}\".format(sys)"
   ]
  },
  {
   "cell_type": "markdown",
   "metadata": {},
   "source": [
    "### 埋め込む文字列のフォーマットを指定する"
   ]
  },
  {
   "cell_type": "code",
   "execution_count": null,
   "metadata": {
    "collapsed": false
   },
   "outputs": [],
   "source": [
    "# 寄せを指定して差し込む\n",
    "# 1つ目の要素を左寄せ，2つ目の要素を右寄せで置換\n",
    "tmpl = \"{0:10} {1:>8}\"\n",
    "tmpl.format('Spam', 300)"
   ]
  },
  {
   "cell_type": "code",
   "execution_count": null,
   "metadata": {
    "collapsed": false
   },
   "outputs": [],
   "source": [
    "tmpl.format('Ham', 200)"
   ]
  },
  {
   "cell_type": "code",
   "execution_count": null,
   "metadata": {
    "collapsed": false
   },
   "outputs": [],
   "source": [
    "# 表記を指定した差し込み\n",
    "# 小数点以下2桁ま\n",
    "\"{:.2%}\".format(6260/12776)"
   ]
  },
  {
   "cell_type": "code",
   "execution_count": null,
   "metadata": {
    "collapsed": false
   },
   "outputs": [],
   "source": [
    "\"{:,}\".format(10000)"
   ]
  },
  {
   "cell_type": "code",
   "execution_count": null,
   "metadata": {
    "collapsed": true
   },
   "outputs": [],
   "source": [
    "# Python 3.6移行では，f文字列という機能が追加されます\n",
    "# name = \"君\"                 # 置換する要素を変数で定義\n",
    "# f\"まずは{name}が落ち着け\"      # {name}の部分が変数の内容に置き換わる\n",
    "\n",
    "# 'まずは君がおちつけ'"
   ]
  },
  {
   "cell_type": "code",
   "execution_count": null,
   "metadata": {
    "collapsed": true
   },
   "outputs": [],
   "source": []
  }
 ],
 "metadata": {
  "kernelspec": {
   "display_name": "Python 3",
   "language": "python",
   "name": "python3"
  },
  "language_info": {
   "codemirror_mode": {
    "name": "ipython",
    "version": 3
   },
   "file_extension": ".py",
   "mimetype": "text/x-python",
   "name": "python",
   "nbconvert_exporter": "python",
   "pygments_lexer": "ipython3",
   "version": "3.5.1"
  }
 },
 "nbformat": 4,
 "nbformat_minor": 0
}
