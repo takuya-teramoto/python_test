{
 "cells": [
  {
   "cell_type": "markdown",
   "metadata": {},
   "source": [
    "# Chapter04-04\n",
    "## リスト，タプルを使いこなす"
   ]
  },
  {
   "cell_type": "markdown",
   "metadata": {},
   "source": [
    "### スライスのステップ数"
   ]
  },
  {
   "cell_type": "code",
   "execution_count": null,
   "metadata": {
    "collapsed": false
   },
   "outputs": [],
   "source": [
    "# リストからスライスで要素を取り出す\n",
    "a = [1, 2, 3, 4, 5]   # リストを定義\n",
    "a                     # リストを表示"
   ]
  },
  {
   "cell_type": "code",
   "execution_count": null,
   "metadata": {
    "collapsed": false
   },
   "outputs": [],
   "source": [
    "# スライスの範囲を指定\n",
    "a[1:4]                # インデックス1から3まで取り出す"
   ]
  },
  {
   "cell_type": "code",
   "execution_count": null,
   "metadata": {
    "collapsed": false
   },
   "outputs": [],
   "source": [
    "# インデックスを超える要素数を与えてみる\n",
    "a[2:100]              # エラーにならない"
   ]
  },
  {
   "cell_type": "code",
   "execution_count": null,
   "metadata": {
    "collapsed": false
   },
   "outputs": [],
   "source": [
    "a[::2]                # ステップ数を使ってリストから2つづつ取り出す"
   ]
  },
  {
   "cell_type": "markdown",
   "metadata": {},
   "source": [
    "### スライスを使った要素の代入と削除"
   ]
  },
  {
   "cell_type": "code",
   "execution_count": null,
   "metadata": {
    "collapsed": false
   },
   "outputs": [],
   "source": [
    "a = [1, 2, 3, 4, 5]   # リストを定義\n",
    "# スライスと代入を使って3つの要素を入れ替え\n",
    "a[2:4] = ['Three', 'Four', 'five']\n",
    "a                     # 結果を確認"
   ]
  },
  {
   "cell_type": "code",
   "execution_count": null,
   "metadata": {
    "collapsed": false
   },
   "outputs": [],
   "source": [
    "a = [1, 2, 3, 4, 5]   # リストを定義\n",
    "del a[2:]             # インデックス2から先を全削除\n",
    "a                     # 結果を確認"
   ]
  },
  {
   "cell_type": "markdown",
   "metadata": {},
   "source": [
    "### アンパック代入"
   ]
  },
  {
   "cell_type": "code",
   "execution_count": null,
   "metadata": {
    "collapsed": false
   },
   "outputs": [],
   "source": [
    "# アンパック代入を使った変数の入れ替え\n",
    "a = 1\n",
    "b = 2\n",
    "b, a = a, b   # 複数の要素を同時に代入\n",
    "print(a, b)"
   ]
  },
  {
   "cell_type": "markdown",
   "metadata": {},
   "source": [
    "### リストをソートする"
   ]
  },
  {
   "cell_type": "code",
   "execution_count": null,
   "metadata": {
    "collapsed": false
   },
   "outputs": [],
   "source": [
    "# sort()メソッドを使ったリストのソート\n",
    "monk_fish_team = [158, 157, 163, 157, 145]\n",
    "monk_fish_team.sort()          # ソートをする\n",
    "monk_fish_team                 # リストの内容を確認"
   ]
  },
  {
   "cell_type": "code",
   "execution_count": null,
   "metadata": {
    "collapsed": false
   },
   "outputs": [],
   "source": [
    "# 逆順(数値の大きい順)にソート\n",
    "monk_fish_team.sort(reverse=True)  # ソートをする\n",
    "monk_fish_team                     # リストの内容を確認"
   ]
  },
  {
   "cell_type": "markdown",
   "metadata": {},
   "source": [
    "### ソート順をカスタマイズする"
   ]
  },
  {
   "cell_type": "code",
   "execution_count": null,
   "metadata": {
    "collapsed": true
   },
   "outputs": [],
   "source": [
    "# 戦車のデータを定義\n",
    "tank_data = [(\"IV号戦車\", 38, 80, 75), (\"LT-38\", 42, 50, 37),\n",
    "             (\"八九式中戦車\", 20, 17, 57), (\"III号突撃砲\", 40, 50, 75),\n",
    "             (\"M3中戦車\", 39, 51, 75)]"
   ]
  },
  {
   "cell_type": "code",
   "execution_count": null,
   "metadata": {
    "collapsed": true
   },
   "outputs": [],
   "source": [
    "# ソートに利用する関数を定義\n",
    "def evaluate_tankdata(tup):\n",
    "    # 戦車の諸元を足して返す関数\n",
    "    return tup[1]+tup[2]+tup[3]"
   ]
  },
  {
   "cell_type": "code",
   "execution_count": null,
   "metadata": {
    "collapsed": false
   },
   "outputs": [],
   "source": [
    "# 関数を使ってみる\n",
    "print(evaluate_tankdata(tank_data[0]))\n",
    "print(evaluate_tankdata(tank_data[4]))"
   ]
  },
  {
   "cell_type": "code",
   "execution_count": null,
   "metadata": {
    "collapsed": false
   },
   "outputs": [],
   "source": [
    "# ソート順を変えてソートを実行\n",
    "tank_data.sort(key=evaluate_tankdata, reverse=True)\n",
    "print(tank_data)"
   ]
  },
  {
   "cell_type": "code",
   "execution_count": null,
   "metadata": {
    "collapsed": true
   },
   "outputs": [],
   "source": []
  }
 ],
 "metadata": {
  "kernelspec": {
   "display_name": "Python 3",
   "language": "python",
   "name": "python3"
  },
  "language_info": {
   "codemirror_mode": {
    "name": "ipython",
    "version": 3
   },
   "file_extension": ".py",
   "mimetype": "text/x-python",
   "name": "python",
   "nbconvert_exporter": "python",
   "pygments_lexer": "ipython3",
   "version": "3.5.1"
  }
 },
 "nbformat": 4,
 "nbformat_minor": 0
}
