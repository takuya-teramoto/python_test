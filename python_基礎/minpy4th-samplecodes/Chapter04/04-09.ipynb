{
 "cells": [
  {
   "cell_type": "markdown",
   "metadata": {},
   "source": [
    "# Chapter04-09\n",
    "## 関数と組み込み型"
   ]
  },
  {
   "cell_type": "code",
   "execution_count": null,
   "metadata": {
    "collapsed": true
   },
   "outputs": [],
   "source": [
    "# 複数の戻り値を返す関数\n",
    "\n",
    "# 書籍のコードを補って実動するように書き換えてあります\n",
    "\n",
    "def foo():\n",
    "    return [1, 2]"
   ]
  },
  {
   "cell_type": "code",
   "execution_count": null,
   "metadata": {
    "collapsed": false
   },
   "outputs": [],
   "source": [
    "# 関数の戻り値をリストで受け取る\n",
    "alist = foo()\n",
    "alist           # 戻り値として受け取ったリストを表示"
   ]
  },
  {
   "cell_type": "markdown",
   "metadata": {},
   "source": [
    "### 戻り値とアンパック代入"
   ]
  },
  {
   "cell_type": "code",
   "execution_count": null,
   "metadata": {
    "collapsed": true
   },
   "outputs": [],
   "source": [
    "# リストの最小値，最大値，平均値を返す関数\n",
    "def digest(in_list):\n",
    "    minvalue = min(in_list)\n",
    "    maxvalue = max(in_list)\n",
    "    average = sum(in_list)/len(in_list)\n",
    "    # 次のreturnの行は[〜]を省略してもよい\n",
    "    return [minvalue, maxvalue, average]"
   ]
  },
  {
   "cell_type": "code",
   "execution_count": null,
   "metadata": {
    "collapsed": false
   },
   "outputs": [],
   "source": [
    "# 関数を使ってみる\n",
    "monk_fish_team = [158, 157, 163, 157, 145]\n",
    "minvalue, maxvalue, average = digest(monk_fish_team)\n",
    "print(minvalue, maxvalue, average)"
   ]
  },
  {
   "cell_type": "markdown",
   "metadata": {},
   "source": [
    "### 関数で引数リストを受け取る"
   ]
  },
  {
   "cell_type": "code",
   "execution_count": null,
   "metadata": {
    "collapsed": false
   },
   "outputs": [],
   "source": [
    "def foo(a, b, *vals):   # 引数を持つ関数を定義\n",
    "    print(a, b, vals)\n",
    "foo(1, 2, 3, 4, 5)      # 5つの数値を引数に指定して呼び出し"
   ]
  },
  {
   "cell_type": "code",
   "execution_count": null,
   "metadata": {
    "collapsed": false
   },
   "outputs": [],
   "source": [
    "foo(1, 2, c=3)          # cという未定義のキーワード引数を指定"
   ]
  },
  {
   "cell_type": "markdown",
   "metadata": {
    "collapsed": true
   },
   "source": [
    "### 関数でキーワード引数を受け取る"
   ]
  },
  {
   "cell_type": "code",
   "execution_count": null,
   "metadata": {
    "collapsed": false
   },
   "outputs": [],
   "source": [
    "def bar(a, b, **args):    # **引数を持つ関数を定義\n",
    "    print(a, b, args)\n",
    "\n",
    "bar(1, 2, c=3, d=4)       # 未定義のキーワード引数を指定"
   ]
  },
  {
   "cell_type": "markdown",
   "metadata": {
    "collapsed": true
   },
   "source": [
    "### オマケ - デフォルト引数と変更可能な組み込み型"
   ]
  },
  {
   "cell_type": "markdown",
   "metadata": {},
   "source": [
    "変更可能な組み込み型をデフォルト引数に設定すると，困ったことが起こるので注意が必要です。\n",
    "\n",
    "具体的に例を出した方か分かりやすいと思うので，そのような関数を作って呼び出してみます。"
   ]
  },
  {
   "cell_type": "code",
   "execution_count": null,
   "metadata": {
    "collapsed": true
   },
   "outputs": [],
   "source": [
    "def append_to(a_list, b_list=[]):\n",
    "    # 変更可能なオブジェクト(リスト)をデフォルト引数に持つ関数を定義\n",
    "    b_list.append(0)\n",
    "    return a_list+b_list"
   ]
  },
  {
   "cell_type": "code",
   "execution_count": null,
   "metadata": {
    "collapsed": false
   },
   "outputs": [],
   "source": [
    "list_1 = [1, 2, 3, 4]        # リストを定義\n",
    "# 第二引数を省略して関数を呼び出し\n",
    "list_2 = append_to(list_1)\n",
    "list_2                       # 結果を表示"
   ]
  },
  {
   "cell_type": "code",
   "execution_count": null,
   "metadata": {
    "collapsed": false
   },
   "outputs": [],
   "source": [
    "list_3 = append_to(list_1)   # 関数をもう一度呼び出す\n",
    "# 関数内の引数b_listにさらに0が追加されるので\n",
    "# 結果の末尾が[0, 0]になる\n",
    "list_3"
   ]
  },
  {
   "cell_type": "code",
   "execution_count": null,
   "metadata": {
    "collapsed": false
   },
   "outputs": [],
   "source": [
    "list_3 = append_to(list_1)\n",
    "# 引数b_listにさらに0が追加されるため，結果がかわる\n",
    "list_3"
   ]
  },
  {
   "cell_type": "markdown",
   "metadata": {},
   "source": [
    "このように，デフォルト引数に変更可能なオブジェクトを設定すると，関数内で行った破壊的操作がそのまま引き継がれます。これは，デフォルト引数のオブジェクトが，インタプリタ実行中に保存されているためです。\n",
    "\n",
    "デフォルト引数に変更可能なオブジェクトを設定すると，期待したとおりの処理にならないことがあるので，注意が必要です。"
   ]
  }
 ],
 "metadata": {
  "kernelspec": {
   "display_name": "Python 3",
   "language": "python",
   "name": "python3"
  },
  "language_info": {
   "codemirror_mode": {
    "name": "ipython",
    "version": 3
   },
   "file_extension": ".py",
   "mimetype": "text/x-python",
   "name": "python",
   "nbconvert_exporter": "python",
   "pygments_lexer": "ipython3",
   "version": "3.5.1"
  }
 },
 "nbformat": 4,
 "nbformat_minor": 0
}
