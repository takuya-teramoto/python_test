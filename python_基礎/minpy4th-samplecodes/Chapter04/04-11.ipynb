{
 "cells": [
  {
   "cell_type": "markdown",
   "metadata": {},
   "source": [
    "# Chapter04-11\n",
    "## ファイル処理"
   ]
  },
  {
   "cell_type": "markdown",
   "metadata": {},
   "source": [
    "### ファイルを開く"
   ]
  },
  {
   "cell_type": "code",
   "execution_count": null,
   "metadata": {
    "collapsed": false
   },
   "outputs": [],
   "source": [
    "# ファイルを開く\n",
    "\n",
    "# コードを実行できるように，サンプルコードの同じ階層に\n",
    "# テキストファイルを設置してあります\n",
    "\n",
    "# ファイルを開いてファイルオブジェクトを得る\n",
    "f = open(\"foo.txt\", \"r\", encoding=\"utf-8\")\n",
    "s = f.read()           # ファイルの内容をすべて文字列に読み込む\n",
    "print(s)               # ファイルの内容を表示する\n",
    "f.close()"
   ]
  },
  {
   "cell_type": "markdown",
   "metadata": {},
   "source": [
    "### ファイルから一行ずつ読み込んで処理をする"
   ]
  },
  {
   "cell_type": "code",
   "execution_count": null,
   "metadata": {
    "collapsed": false
   },
   "outputs": [],
   "source": [
    "# ファイルを開く\n",
    "f = open(\"test.txt\", \"r\", encoding=\"utf-8\")\n",
    "for line in f:             # ファイルから一行ずつ読み込む\n",
    "    print(line, end=\" \")   # 一行ずつ表示する"
   ]
  },
  {
   "cell_type": "markdown",
   "metadata": {},
   "source": [
    "### ファイルに書き出す"
   ]
  },
  {
   "cell_type": "code",
   "execution_count": null,
   "metadata": {
    "collapsed": true
   },
   "outputs": [],
   "source": [
    "f = open(\"newfile.txt\", \"w\", encoding=\"utf-8\")\n",
    "f.write(\"人生はゼロから生まれゼロに戻るのだから、失敗しても何も損はしない\")\n",
    "f.close()"
   ]
  },
  {
   "cell_type": "markdown",
   "metadata": {},
   "source": [
    "### バイナリファイルを扱う"
   ]
  },
  {
   "cell_type": "code",
   "execution_count": null,
   "metadata": {
    "collapsed": false
   },
   "outputs": [],
   "source": [
    "imgfile = open('someimage.png', 'rb')\n",
    "imgsrc = imgfile.read()\n",
    "if imgsrc[1:4] == b'PNG':\n",
    "    print('image/png')"
   ]
  },
  {
   "cell_type": "markdown",
   "metadata": {},
   "source": [
    "### ファイル名の扱い"
   ]
  },
  {
   "cell_type": "code",
   "execution_count": null,
   "metadata": {
    "collapsed": false
   },
   "outputs": [],
   "source": [
    "import sys    # sysモジュールをインポート\n",
    "# ファイルシステムのエンコーディングを表示する\n",
    "sys.getfilesystemencoding()"
   ]
  },
  {
   "cell_type": "code",
   "execution_count": null,
   "metadata": {
    "collapsed": true
   },
   "outputs": [],
   "source": []
  }
 ],
 "metadata": {
  "kernelspec": {
   "display_name": "Python 3",
   "language": "python",
   "name": "python3"
  },
  "language_info": {
   "codemirror_mode": {
    "name": "ipython",
    "version": 3
   },
   "file_extension": ".py",
   "mimetype": "text/x-python",
   "name": "python",
   "nbconvert_exporter": "python",
   "pygments_lexer": "ipython3",
   "version": "3.5.1"
  }
 },
 "nbformat": 4,
 "nbformat_minor": 0
}
