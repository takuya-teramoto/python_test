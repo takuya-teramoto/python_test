{
 "cells": [
  {
   "cell_type": "markdown",
   "metadata": {},
   "source": [
    "# Chapter04-06\n",
    "## ディクショナリを使いこなす"
   ]
  },
  {
   "cell_type": "markdown",
   "metadata": {},
   "source": [
    "### シーケンスなどからディクショナリを作る"
   ]
  },
  {
   "cell_type": "code",
   "execution_count": null,
   "metadata": {
    "collapsed": false
   },
   "outputs": [],
   "source": [
    "# どれも{'one':1, 'two':2}というディクショナリを作ります\n",
    "\n",
    "# ディクショナリからディクショナリを作る(コピー)\n",
    "dict({'one':1, 'two':2})"
   ]
  },
  {
   "cell_type": "code",
   "execution_count": null,
   "metadata": {
    "collapsed": false
   },
   "outputs": [],
   "source": [
    "# キーと値のシーケンスからディクショナリを作る\n",
    "dict([['one', 1], ['two', 2]])"
   ]
  },
  {
   "cell_type": "code",
   "execution_count": null,
   "metadata": {
    "collapsed": false
   },
   "outputs": [],
   "source": [
    "# キーワード引数からディクショナリを作る\n",
    "dict(one=1, two=2)"
   ]
  },
  {
   "cell_type": "markdown",
   "metadata": {},
   "source": [
    "### 2つのディクショナリを組み合わせる"
   ]
  },
  {
   "cell_type": "code",
   "execution_count": null,
   "metadata": {
    "collapsed": false
   },
   "outputs": [],
   "source": [
    "rssitem = {\"title\"  :\"Pythonを勉強中\",\n",
    "           \"link\"   :\"http://host.to/blog/entry\",\n",
    "           \"dc_date\":\"2016-07-12T13:24:04Z\"}\n",
    "# ディクショナリを更新\n",
    "rssitem.update({\"title\"     :\"Pythonを勉強中\",\n",
    "                \"dc:creator\":\"someone\"})\n",
    "rssitem.keys()   # キーの一覧を取得"
   ]
  },
  {
   "cell_type": "code",
   "execution_count": null,
   "metadata": {
    "collapsed": false
   },
   "outputs": [],
   "source": [
    "rssitem          # ディクショナリの内容を表示"
   ]
  },
  {
   "cell_type": "markdown",
   "metadata": {},
   "source": [
    "### ディクショナリのキーをスマートに扱う"
   ]
  },
  {
   "cell_type": "code",
   "execution_count": null,
   "metadata": {
    "collapsed": false
   },
   "outputs": [],
   "source": [
    "# 英単語の出現数をディクショナリで数える\n",
    "#\n",
    "# 本書ではスペースの都合などで抽象的なサンプルコードを掲載してありますが\n",
    "# こちらではコードを補って実動するよう書き換えてあります\n",
    "\n",
    "line = \"\"\"If you can dream it, you can do it. \n",
    "- Walt Disney\"\"\"\n",
    "wordcnt = {}              # ディクショナリを初期化\n",
    "for word in line.split():\n",
    "    if word in wordcnt:\n",
    "        wordcnt[word] = wordcnt[word]+1\n",
    "    else:\n",
    "        wordcnt[word] = 1\n",
    "print(wordcnt)            # 結果を表示"
   ]
  },
  {
   "cell_type": "code",
   "execution_count": null,
   "metadata": {
    "collapsed": false
   },
   "outputs": [],
   "source": [
    "# ディクショナリのgetメソッドを使って書き換える\n",
    "wordcnt = {}              # ディクショナリを初期化\n",
    "for word in line.split():\n",
    "    wordcnt[word] = wordcnt.get(word, 0)+1\n",
    "print(wordcnt)            # 結果を表示"
   ]
  },
  {
   "cell_type": "code",
   "execution_count": null,
   "metadata": {
    "collapsed": false
   },
   "outputs": [],
   "source": [
    "# オマケ setdefault()を使ったサンプル\n",
    "wordcnt = {}              # ディクショナリを初期化\n",
    "for word in line.split():\n",
    "    wordcnt[word] = wordcnt.setdefault(word, 0) + 1\n",
    "print(wordcnt)            # 結果を表示"
   ]
  },
  {
   "cell_type": "code",
   "execution_count": null,
   "metadata": {
    "collapsed": true
   },
   "outputs": [],
   "source": []
  }
 ],
 "metadata": {
  "kernelspec": {
   "display_name": "Python 3",
   "language": "python",
   "name": "python3"
  },
  "language_info": {
   "codemirror_mode": {
    "name": "ipython",
    "version": 3
   },
   "file_extension": ".py",
   "mimetype": "text/x-python",
   "name": "python",
   "nbconvert_exporter": "python",
   "pygments_lexer": "ipython3",
   "version": "3.5.1"
  }
 },
 "nbformat": 4,
 "nbformat_minor": 0
}
