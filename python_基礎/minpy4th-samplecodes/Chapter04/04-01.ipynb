{
 "cells": [
  {
   "cell_type": "markdown",
   "metadata": {},
   "source": [
    "# Chapter 04-01\n",
    "## オブジェクトとしての組み込み型"
   ]
  },
  {
   "cell_type": "markdown",
   "metadata": {},
   "source": [
    "### メソッドとは"
   ]
  },
  {
   "cell_type": "code",
   "execution_count": null,
   "metadata": {
    "collapsed": true
   },
   "outputs": [],
   "source": [
    "# リスト要素のインデックスを探す関数\n",
    "def find_index(the_list, target):\n",
    "    # the_listからtargetのインデックスを調べる関数\n",
    "    idx = 0            # インデックス用のカウンタを初期化\n",
    "    for item in the_list:   # リストの要素を一つずつ調べる\n",
    "        if target == the_list[idx]:\n",
    "            # 調べたい要素が見つかったのでインデックスを返す\n",
    "            return idx\n",
    "        idx = idx+1    # インデックスを1増やす"
   ]
  },
  {
   "cell_type": "code",
   "execution_count": null,
   "metadata": {
    "collapsed": false
   },
   "outputs": [],
   "source": [
    "# 関数を使ってみる\n",
    "# リストを定義\n",
    "mcz=[\"れに\", \"かなこ\", \"しおり\", \"あやか\", \"ももか\"]\n",
    "find_index(mcz, \"しおり\")"
   ]
  },
  {
   "cell_type": "code",
   "execution_count": null,
   "metadata": {
    "collapsed": false
   },
   "outputs": [],
   "source": [
    "# メソッドを使って同じ処理を書く方が簡単\n",
    "mcz.index(\"しおり\")"
   ]
  },
  {
   "cell_type": "code",
   "execution_count": null,
   "metadata": {
    "collapsed": true
   },
   "outputs": [],
   "source": []
  }
 ],
 "metadata": {
  "kernelspec": {
   "display_name": "Python 3",
   "language": "python",
   "name": "python3"
  },
  "language_info": {
   "codemirror_mode": {
    "name": "ipython",
    "version": 3
   },
   "file_extension": ".py",
   "mimetype": "text/x-python",
   "name": "python",
   "nbconvert_exporter": "python",
   "pygments_lexer": "ipython3",
   "version": "3.5.1"
  }
 },
 "nbformat": 4,
 "nbformat_minor": 0
}
