{
 "cells": [
  {
   "cell_type": "markdown",
   "metadata": {},
   "source": [
    "# Chapter 10-01\n",
    "## 例外処理"
   ]
  },
  {
   "cell_type": "markdown",
   "metadata": {},
   "source": [
    "### 例外を捕まえる"
   ]
  },
  {
   "cell_type": "code",
   "execution_count": null,
   "metadata": {
    "collapsed": true
   },
   "outputs": [],
   "source": [
    "# 書籍のスクリプトファイルと同じ機能を持つ関数を定義\n",
    "def filelen(filenames):\n",
    "    \"\"\"空白区切りのファイル名を与えてファイルの長さを返す関数\n",
    "    \"\"\"\n",
    "    for fn in filenames.split():\n",
    "        try:\n",
    "            f = open(fn)\n",
    "        except FileNotFoundError:\n",
    "            print(\"{}というファイルは存在しません\".format(fn))\n",
    "        else:\n",
    "            try:\n",
    "                print(fn, len(f.read())) # ファイル名とサイズを表示\n",
    "            finally:\n",
    "                f.close()  # ファイルをcloseする。\n"
   ]
  },
  {
   "cell_type": "code",
   "execution_count": null,
   "metadata": {
    "collapsed": false
   },
   "outputs": [],
   "source": [
    "# 関数を呼び出してみる\n",
    "filelen('filelen.py')"
   ]
  },
  {
   "cell_type": "code",
   "execution_count": null,
   "metadata": {
    "collapsed": false
   },
   "outputs": [],
   "source": [
    "filelen('spam.txt')"
   ]
  },
  {
   "cell_type": "markdown",
   "metadata": {},
   "source": [
    "### With文"
   ]
  },
  {
   "cell_type": "code",
   "execution_count": null,
   "metadata": {
    "collapsed": true
   },
   "outputs": [],
   "source": [
    "# with文を使って同じ関数を定義\n",
    "def filelen_w(filenames):\n",
    "    \"\"\"空白区切りのファイル名を与えてファイルの長さを返す関数\n",
    "    \"\"\"\n",
    "    for fn in filenames.split():\n",
    "        try:\n",
    "            with open(fn) as f:\n",
    "                print(fn, len(f.read())) # ファイル名とサイズを表示\n",
    "        except FileNotFoundError:\n",
    "            print(\"{}というファイルは存在しません\".format(fn))\n"
   ]
  },
  {
   "cell_type": "code",
   "execution_count": null,
   "metadata": {
    "collapsed": false
   },
   "outputs": [],
   "source": [
    "# 関数を呼び出してみる\n",
    "filelen_w('filelen.py')"
   ]
  },
  {
   "cell_type": "code",
   "execution_count": null,
   "metadata": {
    "collapsed": false
   },
   "outputs": [],
   "source": [
    "filelen_w('spam.txt')"
   ]
  },
  {
   "cell_type": "markdown",
   "metadata": {},
   "source": [
    "### 例外とトレースバック"
   ]
  },
  {
   "cell_type": "code",
   "execution_count": null,
   "metadata": {
    "collapsed": false
   },
   "outputs": [],
   "source": [
    "from urllib import request\n",
    "request.urlopen('spam://spam.spam/') # URLErrorか発生する"
   ]
  },
  {
   "cell_type": "markdown",
   "metadata": {},
   "source": [
    "### 例外を発生(raise)する"
   ]
  },
  {
   "cell_type": "code",
   "execution_count": null,
   "metadata": {
    "collapsed": false
   },
   "outputs": [],
   "source": [
    "try:\n",
    "    raise ValueError(\"意図的に例外を発生します\")\n",
    "except ValueError as e:\n",
    "    print(e)    # 例外のメッセージを表示"
   ]
  },
  {
   "cell_type": "markdown",
   "metadata": {},
   "source": [
    "### トレースバックを表示"
   ]
  },
  {
   "cell_type": "code",
   "execution_count": null,
   "metadata": {
    "collapsed": false
   },
   "outputs": [],
   "source": [
    "# print_exc()でトレースバックを表示する\n",
    "import traceback\n",
    "try:\n",
    "    spam += 1              # 意図的に例外(NameError)を発生\n",
    "except:\n",
    "    traceback.print_exc()  # トレースバックを表示"
   ]
  },
  {
   "cell_type": "code",
   "execution_count": null,
   "metadata": {
    "collapsed": false
   },
   "outputs": [],
   "source": [
    "# format_exc()でトレースバックを文字列として受け取る\n",
    "# print_exc()で例外を表示する\n",
    "import traceback\n",
    "try:\n",
    "    spam += 1              # 意図的に例外(NameError)を発生\n",
    "except:\n",
    "    e = traceback.format_exc() # トレースバックを文字列で受け取る\n",
    "    print(e)               # トレースバックを表示"
   ]
  },
  {
   "cell_type": "code",
   "execution_count": null,
   "metadata": {
    "collapsed": true
   },
   "outputs": [],
   "source": []
  }
 ],
 "metadata": {
  "kernelspec": {
   "display_name": "Python 3",
   "language": "python",
   "name": "python3"
  },
  "language_info": {
   "codemirror_mode": {
    "name": "ipython",
    "version": 3
   },
   "file_extension": ".py",
   "mimetype": "text/x-python",
   "name": "python",
   "nbconvert_exporter": "python",
   "pygments_lexer": "ipython3",
   "version": "3.5.1"
  }
 },
 "nbformat": 4,
 "nbformat_minor": 0
}
