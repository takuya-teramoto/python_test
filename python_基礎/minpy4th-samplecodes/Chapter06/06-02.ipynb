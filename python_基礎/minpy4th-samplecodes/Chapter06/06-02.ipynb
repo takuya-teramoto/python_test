{
 "cells": [
  {
   "cell_type": "markdown",
   "metadata": {},
   "source": [
    "# Chapter06-02\n",
    "## クラスを作る"
   ]
  },
  {
   "cell_type": "markdown",
   "metadata": {},
   "source": [
    "### クラスを定義する"
   ]
  },
  {
   "cell_type": "code",
   "execution_count": null,
   "metadata": {
    "collapsed": true
   },
   "outputs": [],
   "source": [
    "# 簡単なクラスを定義する\n",
    "class MyClass:\n",
    "    pass           # このブロックに処理内容を記述する"
   ]
  },
  {
   "cell_type": "markdown",
   "metadata": {},
   "source": [
    "### インスタンスのアトリビュート"
   ]
  },
  {
   "cell_type": "code",
   "execution_count": null,
   "metadata": {
    "collapsed": true
   },
   "outputs": [],
   "source": [
    "i = MyClass()   # 変数にインスタンスを代入する"
   ]
  },
  {
   "cell_type": "code",
   "execution_count": null,
   "metadata": {
    "collapsed": false
   },
   "outputs": [],
   "source": [
    "i.value = 5     # valueという名前のアトリビュートに数値を代入\n",
    "i.value         # valueアトリビュートの値を表示"
   ]
  },
  {
   "cell_type": "code",
   "execution_count": null,
   "metadata": {
    "collapsed": false
   },
   "outputs": [],
   "source": [
    "# 未定義のアトリビュートを参照しようとするとエラーになる\n",
    "i.undefined"
   ]
  },
  {
   "cell_type": "code",
   "execution_count": null,
   "metadata": {
    "collapsed": false
   },
   "outputs": [],
   "source": [
    "i2 = MyClass()   # MyClassのインスタンスを別に定義\n",
    "i2.value         # valueアトリビュートを参照しようとすると\n",
    "　　　　　　　　　  # 未定義のためエラーになる"
   ]
  },
  {
   "cell_type": "markdown",
   "metadata": {},
   "source": [
    "### メソッドの定義と初期化メソッド「\\_\\_init\\_\\_()」"
   ]
  },
  {
   "cell_type": "code",
   "execution_count": null,
   "metadata": {
    "collapsed": true
   },
   "outputs": [],
   "source": [
    "class MyClass2:\n",
    "    def __init__(self):   # 初期化メソッドを定義\n",
    "        self.value = 0    # インスタンスにアトリビュートを追加\n",
    "        print(\"This is __init__() method !\")"
   ]
  },
  {
   "cell_type": "code",
   "execution_count": null,
   "metadata": {
    "collapsed": false
   },
   "outputs": [],
   "source": [
    "# MyClass2クラスを使う\n",
    "i3 = MyClass2()           # インスタンスを作る"
   ]
  },
  {
   "cell_type": "code",
   "execution_count": null,
   "metadata": {
    "collapsed": false
   },
   "outputs": [],
   "source": [
    "i3.value                  # インスタンスのアトリビュートを表示"
   ]
  },
  {
   "cell_type": "markdown",
   "metadata": {},
   "source": [
    "### メソッドと第一引数「self」"
   ]
  },
  {
   "cell_type": "code",
   "execution_count": null,
   "metadata": {
    "collapsed": true
   },
   "outputs": [],
   "source": [
    "# Prismクラス(角柱)を定義する\n",
    "class Prism:\n",
    "    def __init__(self, width, height, depth):\n",
    "        # 初期化メソッドを定義\n",
    "        self.width = width    # 引数をアトリビュートに代入\n",
    "        self.height = height\n",
    "        self.depth = depth\n",
    "\n",
    "    def content(self):\n",
    "        # 体積を求める\n",
    "        return self.width*self.height*self.depth"
   ]
  },
  {
   "cell_type": "code",
   "execution_count": null,
   "metadata": {
    "collapsed": false
   },
   "outputs": [],
   "source": [
    "# Prismクラスを使う\n",
    "p1 = Prism(10, 20, 30)\n",
    "print(p1.content())"
   ]
  },
  {
   "cell_type": "code",
   "execution_count": null,
   "metadata": {
    "collapsed": false
   },
   "outputs": [],
   "source": [
    "# 別の数値を指定してインスタンスを作る\n",
    "p2 = Prism(50, 60, 70)\n",
    "print(p2.content())"
   ]
  },
  {
   "cell_type": "code",
   "execution_count": null,
   "metadata": {
    "collapsed": false
   },
   "outputs": [],
   "source": [
    "# インスタンスからアトリビュートを取り出す\n",
    "p1.height"
   ]
  },
  {
   "cell_type": "code",
   "execution_count": null,
   "metadata": {
    "collapsed": false
   },
   "outputs": [],
   "source": [
    "# 別インスタンスのアトリビュートには，別の値が入っている\n",
    "p2.height"
   ]
  },
  {
   "cell_type": "code",
   "execution_count": null,
   "metadata": {
    "collapsed": false
   },
   "outputs": [],
   "source": [
    "# アトリビュートを書き換える\n",
    "p1.height = 50\n",
    "print(p1.content())"
   ]
  },
  {
   "cell_type": "markdown",
   "metadata": {},
   "source": [
    "### アトリビュートの隠蔽"
   ]
  },
  {
   "cell_type": "code",
   "execution_count": null,
   "metadata": {
    "collapsed": false
   },
   "outputs": [],
   "source": [
    "p = Prism(10, 20, 30)\n",
    "p.width               # 横幅を表示"
   ]
  },
  {
   "cell_type": "code",
   "execution_count": null,
   "metadata": {
    "collapsed": false
   },
   "outputs": [],
   "source": [
    "p.depth = \"30\"        # アトリビュートに数値でなく文字列を代入\n",
    "p.content()"
   ]
  },
  {
   "cell_type": "code",
   "execution_count": null,
   "metadata": {
    "collapsed": true
   },
   "outputs": [],
   "source": [
    "# \"__\"でアトリビュートを隠蔽したPrismクラス(角柱)を定義する\n",
    "class PrismC:\n",
    "    def __init__(self, width, height, depth):\n",
    "        # 初期化メソッドを定義\n",
    "        self.__width = width    # 引数をアトリビュートに代入\n",
    "        self.__height = height\n",
    "        self.__depth = depth\n",
    "\n",
    "    def content(self):\n",
    "        # 体積を求める\n",
    "        return self.__width*self.__height*self.__depth"
   ]
  },
  {
   "cell_type": "code",
   "execution_count": null,
   "metadata": {
    "collapsed": false
   },
   "outputs": [],
   "source": [
    "p4 = PrismC(10, 20, 30)\n",
    "print(p4.content())"
   ]
  },
  {
   "cell_type": "code",
   "execution_count": null,
   "metadata": {
    "collapsed": false
   },
   "outputs": [],
   "source": [
    "p4.__width = 200    # アトリビュートを外部から書き換え\n",
    "p4.content()        # 結果は変わらない"
   ]
  },
  {
   "cell_type": "code",
   "execution_count": null,
   "metadata": {
    "collapsed": false
   },
   "outputs": [],
   "source": [
    "# ただし，置き換えルールを知っていれば書き換えられる\n",
    "p4._PrismC__width = 200\n",
    "p4.content()"
   ]
  }
 ],
 "metadata": {
  "kernelspec": {
   "display_name": "Python 3",
   "language": "python",
   "name": "python3"
  },
  "language_info": {
   "codemirror_mode": {
    "name": "ipython",
    "version": 3
   },
   "file_extension": ".py",
   "mimetype": "text/x-python",
   "name": "python",
   "nbconvert_exporter": "python",
   "pygments_lexer": "ipython3",
   "version": "3.5.1"
  }
 },
 "nbformat": 4,
 "nbformat_minor": 0
}
