{
 "cells": [
  {
   "cell_type": "markdown",
   "metadata": {},
   "source": [
    "# Chapter 11-11\n",
    "## オブジェクトの永続化とシリアライズ「shelve」「pickle」"
   ]
  },
  {
   "cell_type": "markdown",
   "metadata": {},
   "source": [
    "### ディクショナリを永続化する「shelve」"
   ]
  },
  {
   "cell_type": "code",
   "execution_count": null,
   "metadata": {
    "collapsed": false
   },
   "outputs": [],
   "source": [
    "# shelve()関数を使う\n",
    "import shelve                  # shelveをインポート\n",
    "d = shelve.open(\"shelvetest\")  # shelveオブジェクトを作る\n",
    "d.update({\"one\":1, \"two\":2})   # update()で内容を更新\n",
    "list(d.items())                # 内容を確認"
   ]
  },
  {
   "cell_type": "code",
   "execution_count": null,
   "metadata": {
    "collapsed": false
   },
   "outputs": [],
   "source": [
    "d.close()"
   ]
  },
  {
   "cell_type": "code",
   "execution_count": null,
   "metadata": {
    "collapsed": false
   },
   "outputs": [],
   "source": [
    "# shelveオブジェクトを再度開いて，中身が保存されていることを確認する\n",
    "d2 = shelve.open(\"shelvetest\")\n",
    "list(d2.items())"
   ]
  },
  {
   "cell_type": "markdown",
   "metadata": {
    "collapsed": true
   },
   "source": [
    "### オブジェクトの永続化とシリアライズを行う 「pickle」"
   ]
  },
  {
   "cell_type": "code",
   "execution_count": null,
   "metadata": {
    "collapsed": false
   },
   "outputs": [],
   "source": [
    "import pickle        # pickleモジュールをインポート\n",
    "# 複雑なオブジェクトを作る\n",
    "o = [1,2,3,{\"one\":1},{\"tow\":2}]\n",
    "# オブジェクトをpickle化して文字列に変換\n",
    "dump_str = pickle.dumps(o)\n",
    "dump_str             # 結果の文字列を表示"
   ]
  },
  {
   "cell_type": "code",
   "execution_count": null,
   "metadata": {
    "collapsed": false
   },
   "outputs": [],
   "source": [
    "# pickle化したオブジェクトを復元する\n",
    "o2 = pickle.loads(dump_str)\n",
    "o2                    # オブジェクトの内容を確認"
   ]
  },
  {
   "cell_type": "code",
   "execution_count": null,
   "metadata": {
    "collapsed": true
   },
   "outputs": [],
   "source": []
  }
 ],
 "metadata": {
  "kernelspec": {
   "display_name": "Python 3",
   "language": "python",
   "name": "python3"
  },
  "language_info": {
   "codemirror_mode": {
    "name": "ipython",
    "version": 3
   },
   "file_extension": ".py",
   "mimetype": "text/x-python",
   "name": "python",
   "nbconvert_exporter": "python",
   "pygments_lexer": "ipython3",
   "version": "3.5.1"
  }
 },
 "nbformat": 4,
 "nbformat_minor": 0
}
