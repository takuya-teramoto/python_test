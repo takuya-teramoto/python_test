{
 "cells": [
  {
   "cell_type": "markdown",
   "metadata": {},
   "source": [
    "# Chapter 11-04\n",
    "## 正規表現「re」"
   ]
  },
  {
   "cell_type": "markdown",
   "metadata": {},
   "source": [
    "### 世紀表現のサンプル"
   ]
  },
  {
   "cell_type": "code",
   "execution_count": null,
   "metadata": {
    "collapsed": false
   },
   "outputs": [],
   "source": [
    "import re                            # re(正規表現)モジュールをインポート\n",
    "from urllib import request           # requestをインポート\n",
    "url = \"https://www.python.org/news/\" # 読み込むURLを指定\n",
    "src = request.urlopen(url).read()    # PythonリリースのURLを読み込む\n",
    "src = src.decode(\"utf-8\")            # bytes型を文字列型に変換\n",
    "                                     # リンクを抽出する正規表現パターン\n",
    "pat = re.compile(r'href=\"(/download/releases/.+?)\"')\n",
    "for match in pat.finditer(src):\n",
    "    print(match.group(1))"
   ]
  },
  {
   "cell_type": "code",
   "execution_count": null,
   "metadata": {
    "collapsed": true
   },
   "outputs": [],
   "source": []
  }
 ],
 "metadata": {
  "kernelspec": {
   "display_name": "Python 3",
   "language": "python",
   "name": "python3"
  },
  "language_info": {
   "codemirror_mode": {
    "name": "ipython",
    "version": 3
   },
   "file_extension": ".py",
   "mimetype": "text/x-python",
   "name": "python",
   "nbconvert_exporter": "python",
   "pygments_lexer": "ipython3",
   "version": "3.5.1"
  }
 },
 "nbformat": 4,
 "nbformat_minor": 0
}
