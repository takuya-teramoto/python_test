{
 "cells": [
  {
   "cell_type": "markdown",
   "metadata": {},
   "source": [
    "# Chapter 11-12\n",
    "## JSONデータを扱う「json」"
   ]
  },
  {
   "cell_type": "markdown",
   "metadata": {},
   "source": [
    "### jsonの使用例"
   ]
  },
  {
   "cell_type": "code",
   "execution_count": null,
   "metadata": {
    "collapsed": false
   },
   "outputs": [],
   "source": [
    "from urllib.request import urlopen\n",
    "from json import loads\n",
    "# GitHub上のGuido氏所有リボジトリ一覧をJSONで取得\n",
    "url = 'https://api.github.com/users/gvanrossum/repos'\n",
    "body = urlopen(url).read()\n",
    "body = body.decode('utf-8')  # JSONを文字列に変換\n",
    "repos = loads(body)          # JSONをPythonオブジェクトに変換\n",
    "for r in repos:              # リボジトリの名前を表示\n",
    "    print(r['name'])"
   ]
  },
  {
   "cell_type": "code",
   "execution_count": null,
   "metadata": {
    "collapsed": true
   },
   "outputs": [],
   "source": []
  }
 ],
 "metadata": {
  "kernelspec": {
   "display_name": "Python 3",
   "language": "python",
   "name": "python3"
  },
  "language_info": {
   "codemirror_mode": {
    "name": "ipython",
    "version": 3
   },
   "file_extension": ".py",
   "mimetype": "text/x-python",
   "name": "python",
   "nbconvert_exporter": "python",
   "pygments_lexer": "ipython3",
   "version": "3.5.1"
  }
 },
 "nbformat": 4,
 "nbformat_minor": 0
}
