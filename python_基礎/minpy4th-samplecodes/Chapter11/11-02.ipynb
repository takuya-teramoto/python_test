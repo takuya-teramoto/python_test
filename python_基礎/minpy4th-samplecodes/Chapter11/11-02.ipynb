{
 "cells": [
  {
   "cell_type": "markdown",
   "metadata": {},
   "source": [
    "# Chapter 11-02\n",
    "## データ構造"
   ]
  },
  {
   "cell_type": "markdown",
   "metadata": {},
   "source": [
    "### OrderedDict"
   ]
  },
  {
   "cell_type": "code",
   "execution_count": null,
   "metadata": {
    "collapsed": false
   },
   "outputs": [],
   "source": [
    "# OrderdDictを使う\n",
    "from collections import OrderedDict\n",
    "od = OrderedDict()    # OrderedDictインスタンスを作る\n",
    "od['a'] = 'A'         # a, c, bと要素を追加\n",
    "od['c'] = 'C'\n",
    "od['b'] = 'B'\n",
    "od                    # 順番が保存されていることを確認"
   ]
  },
  {
   "cell_type": "code",
   "execution_count": null,
   "metadata": {
    "collapsed": false
   },
   "outputs": [],
   "source": [
    "d = {}                # ディクショナリを作る\n",
    "d['a'] = 'A'          # a, b, cと要素を追加\n",
    "d['c'] = 'C'\n",
    "d['b'] = 'B'\n",
    "d                     # 追加順と順番が違う(Python 3.6からは順番を保存)"
   ]
  },
  {
   "cell_type": "markdown",
   "metadata": {},
   "source": [
    "### defaultdict"
   ]
  },
  {
   "cell_type": "code",
   "execution_count": null,
   "metadata": {
    "collapsed": false
   },
   "outputs": [],
   "source": [
    "# タプルからディクショナリを作る\n",
    "# 犬/猫をキーにして，属する種類をリストにした値として辞書を作る\n",
    "# ディクショナリを使った場合\n",
    "animals = [('猫', '三毛'), ('犬', 'コーギー'),\n",
    "           ('猫', 'シャム'), ('犬', 'ダックス'),\n",
    "           ('犬', '黒ラブ')]\n",
    "d = {}     # ディクショナリを初期化\n",
    "for k, v in animals:   # タプルからディクショナリを作る\n",
    "    if k not in d:\n",
    "        # キーが存在しなかったのでリストで初期化\n",
    "        d[k] = []\n",
    "    else:\n",
    "        # キーが存在するので値を追加\n",
    "        d[k].append(v)\n",
    "\n",
    "d  # 結果を表示"
   ]
  },
  {
   "cell_type": "code",
   "execution_count": null,
   "metadata": {
    "collapsed": false
   },
   "outputs": [],
   "source": [
    "# setdefaultメソッドを使った場合\n",
    "d2 = {}    # ディクショナリを初期化\n",
    "for k, v in animals:\n",
    "    d2.setdefault(k, []).append(v)\n",
    "\n",
    "d2  # 結果を表示"
   ]
  },
  {
   "cell_type": "code",
   "execution_count": null,
   "metadata": {
    "collapsed": false
   },
   "outputs": [],
   "source": [
    "# defaultdictを使った場合\n",
    "from collections import defaultdict\n",
    "# 空のリストを初期値に持つディクショナリを作る\n",
    "dd = defaultdict(list)\n",
    "for k, v in animals:\n",
    "    dd[k].append(v)\n",
    "\n",
    "dd  # 結果を表示"
   ]
  },
  {
   "cell_type": "code",
   "execution_count": null,
   "metadata": {
    "collapsed": true
   },
   "outputs": [],
   "source": []
  }
 ],
 "metadata": {
  "kernelspec": {
   "display_name": "Python 3",
   "language": "python",
   "name": "python3"
  },
  "language_info": {
   "codemirror_mode": {
    "name": "ipython",
    "version": 3
   },
   "file_extension": ".py",
   "mimetype": "text/x-python",
   "name": "python",
   "nbconvert_exporter": "python",
   "pygments_lexer": "ipython3",
   "version": "3.5.1"
  }
 },
 "nbformat": 4,
 "nbformat_minor": 0
}
