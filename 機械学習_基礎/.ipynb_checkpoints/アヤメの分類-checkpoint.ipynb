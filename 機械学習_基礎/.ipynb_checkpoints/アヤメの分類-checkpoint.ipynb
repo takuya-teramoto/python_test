{
 "cells": [
  {
   "cell_type": "code",
   "execution_count": 44,
   "metadata": {},
   "outputs": [
    {
     "name": "stdout",
     "output_type": "stream",
     "text": [
      "正解率 =  1.0\n",
      "['Iris-virginica' 'Iris-setosa']\n",
      "     SepalLength  SepalWidth  PetalLength  PetalWidth\n",
      "114          5.8         2.8          5.1         2.4\n",
      "62           6.0         2.2          4.0         1.0\n",
      "33           5.5         4.2          1.4         0.2\n",
      "107          7.3         2.9          6.3         1.8\n",
      "7            5.0         3.4          1.5         0.2\n",
      "100          6.3         3.3          6.0         2.5\n",
      "40           5.0         3.5          1.3         0.3\n",
      "86           6.7         3.1          4.7         1.5\n",
      "76           6.8         2.8          4.8         1.4\n",
      "71           6.1         2.8          4.0         1.3\n",
      "134          6.1         2.6          5.6         1.4\n",
      "51           6.4         3.2          4.5         1.5\n",
      "73           6.1         2.8          4.7         1.2\n",
      "54           6.5         2.8          4.6         1.5\n",
      "63           6.1         2.9          4.7         1.4\n",
      "37           4.9         3.1          1.5         0.1\n",
      "78           6.0         2.9          4.5         1.5\n",
      "90           5.5         2.6          4.4         1.2\n",
      "45           4.8         3.0          1.4         0.3\n",
      "16           5.4         3.9          1.3         0.4\n",
      "121          5.6         2.8          4.9         2.0\n",
      "66           5.6         3.0          4.5         1.5\n",
      "24           4.8         3.4          1.9         0.2\n",
      "8            4.4         2.9          1.4         0.2\n",
      "126          6.2         2.8          4.8         1.8\n",
      "22           4.6         3.6          1.0         0.2\n",
      "44           5.1         3.8          1.9         0.4\n",
      "97           6.2         2.9          4.3         1.3\n",
      "93           5.0         2.3          3.3         1.0\n",
      "26           5.0         3.4          1.6         0.4\n"
     ]
    }
   ],
   "source": [
    "#ライブラリのインポート\n",
    "import pandas as pd\n",
    "from sklearn.model_selection import train_test_split\n",
    "from sklearn.svm import SVC\n",
    "from sklearn.metrics import accuracy_score\n",
    "\n",
    "#アヤメデータの読み込み\n",
    "iris_data = pd.read_csv(\"iris.csv\", encoding=\"utf-8\")\n",
    "\n",
    "#アヤメデータをラベルと入力データに分類する\n",
    "y = iris_data.loc[:, \"Name\"]\n",
    "x = iris_data.loc[:, [\"SepalLength\", \"SepalWidth\", \"PetalLength\", \"PetalWidth\"]]\n",
    "\n",
    "#学習用とテスト用に分離する　random_stateで再現性を持たせることができる（値は任意）\n",
    "x_train, x_test, y_train, y_test = train_test_split(x, y, test_size = 0.2, train_size = 0.8, shuffle = True, random_state = 0)\n",
    "\n",
    "#学習する\n",
    "clf = SVC()\n",
    "clf.fit(x_train, y_train)\n",
    "\n",
    "#評価する\n",
    "y_pred = clf.predict(x_test)\n",
    "print(\"正解率 = \", accuracy_score(y_test, y_pred))\n",
    "\n",
    "test = [[6.5, 3, 7, 2], [5, 3, 1, 0.1]]\n",
    "print(clf.predict(test))\n",
    "print(x_test)"
   ]
  },
  {
   "cell_type": "code",
   "execution_count": null,
   "metadata": {},
   "outputs": [],
   "source": []
  }
 ],
 "metadata": {
  "kernelspec": {
   "display_name": "Python 3",
   "language": "python",
   "name": "python3"
  },
  "language_info": {
   "codemirror_mode": {
    "name": "ipython",
    "version": 3
   },
   "file_extension": ".py",
   "mimetype": "text/x-python",
   "name": "python",
   "nbconvert_exporter": "python",
   "pygments_lexer": "ipython3",
   "version": "3.6.4"
  }
 },
 "nbformat": 4,
 "nbformat_minor": 2
}
